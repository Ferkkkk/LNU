{
 "cells": [
  {
   "cell_type": "markdown",
   "id": "0ab0398d",
   "metadata": {},
   "source": [
    "Methods of Machine Learning and Intellectual Analysis of Data (Learning course) \\\n",
    "Bohdan Pavlyshenko (https://www.linkedin.com/in/bpavlyshenko/) \\\n",
    "Youtube video: https://www.youtube.com/watch?v=ydh0r4Lwzds&list=PLMQt7tnruMvF1jetHNUKjMtHKSp78H2bb&index=5"
   ]
  },
  {
   "cell_type": "markdown",
   "id": "ec471f9e",
   "metadata": {},
   "source": [
    "# Classification (Keras, Iris Dataset)"
   ]
  },
  {
   "cell_type": "code",
   "execution_count": 1,
   "id": "1626bcf5",
   "metadata": {},
   "outputs": [],
   "source": [
    "import pandas as pd\n",
    "import torch\n",
    "import numpy as np\n",
    "from sklearn.datasets import load_iris\n",
    "from sklearn.model_selection import train_test_split\n",
    "from transformers import BertTokenizer, BertModel\n",
    "from torch import nn\n",
    "from torch.optim import Adam\n",
    "from tqdm import tqdm\n",
    "from torch.utils.data import DataLoader\n",
    "from matplotlib import pyplot as plt\n",
    "from sklearn.preprocessing import StandardScaler\n",
    "from sklearn.metrics import accuracy_score, classification_report, confusion_matrix, f1_score, \\\n",
    "log_loss, recall_score, precision_score\n",
    "import seaborn as sns\n",
    "sns.set_style(\"whitegrid\")\n",
    "%matplotlib inline\n",
    "from tensorflow import keras\n",
    "from tensorflow.keras import layers, Sequential\n",
    "from tensorflow.keras.layers import  Dense, Dropout \n",
    "from tensorflow.keras import optimizers\n",
    "import tensorflow as tf"
   ]
  },
  {
   "cell_type": "code",
   "execution_count": 2,
   "id": "a6459d28",
   "metadata": {},
   "outputs": [],
   "source": [
    "iris_data = load_iris()\n",
    "X_iris = iris_data.data\n",
    "y_iris = iris_data.target"
   ]
  },
  {
   "cell_type": "code",
   "execution_count": 3,
   "id": "4b377f29",
   "metadata": {},
   "outputs": [
    {
     "data": {
      "text/plain": [
       "3"
      ]
     },
     "execution_count": 3,
     "metadata": {},
     "output_type": "execute_result"
    }
   ],
   "source": [
    "n_classes=len(set(y_iris))\n",
    "n_classes"
   ]
  },
  {
   "cell_type": "code",
   "execution_count": 4,
   "id": "0d7b853c",
   "metadata": {},
   "outputs": [],
   "source": [
    "X_train, X_test, y_train, y_test = train_test_split(X_iris, y_iris,test_size=0.3,random_state=10)"
   ]
  },
  {
   "cell_type": "code",
   "execution_count": 6,
   "id": "09147fd2",
   "metadata": {},
   "outputs": [
    {
     "data": {
      "text/plain": [
       "array([0, 1, 1, 2, 2])"
      ]
     },
     "execution_count": 6,
     "metadata": {},
     "output_type": "execute_result"
    }
   ],
   "source": [
    "y_train[:5]"
   ]
  },
  {
   "cell_type": "code",
   "execution_count": 7,
   "id": "cf82c88c",
   "metadata": {},
   "outputs": [],
   "source": [
    "y_train_bin = keras.utils.to_categorical(y_train, n_classes)\n",
    "y_test_bin = keras.utils.to_categorical(y_test, n_classes)"
   ]
  },
  {
   "cell_type": "code",
   "execution_count": 8,
   "id": "2c7a9d36",
   "metadata": {},
   "outputs": [
    {
     "data": {
      "text/plain": [
       "array([[1., 0., 0.],\n",
       "       [0., 1., 0.],\n",
       "       [0., 1., 0.],\n",
       "       [0., 0., 1.],\n",
       "       [0., 0., 1.]], dtype=float32)"
      ]
     },
     "execution_count": 8,
     "metadata": {},
     "output_type": "execute_result"
    }
   ],
   "source": [
    "y_train_bin[:5]"
   ]
  },
  {
   "cell_type": "code",
   "execution_count": 26,
   "id": "414a3a17",
   "metadata": {},
   "outputs": [
    {
     "data": {
      "text/plain": [
       "array([0, 1, 1])"
      ]
     },
     "execution_count": 26,
     "metadata": {},
     "output_type": "execute_result"
    }
   ],
   "source": [
    "y_train[:3]"
   ]
  },
  {
   "cell_type": "code",
   "execution_count": 9,
   "id": "5e029b40",
   "metadata": {},
   "outputs": [
    {
     "data": {
      "text/plain": [
       "4"
      ]
     },
     "execution_count": 9,
     "metadata": {},
     "output_type": "execute_result"
    }
   ],
   "source": [
    "n_feat=X_train.shape[1]\n",
    "n_feat"
   ]
  },
  {
   "cell_type": "code",
   "execution_count": 10,
   "id": "ee073ca8",
   "metadata": {},
   "outputs": [
    {
     "name": "stdout",
     "output_type": "stream",
     "text": [
      "Metal device set to: Apple M1 Pro\n",
      "Epoch 1/15\n"
     ]
    },
    {
     "name": "stderr",
     "output_type": "stream",
     "text": [
      "2023-02-01 12:17:05.755176: I tensorflow/core/common_runtime/pluggable_device/pluggable_device_factory.cc:305] Could not identify NUMA node of platform GPU ID 0, defaulting to 0. Your kernel may not have been built with NUMA support.\n",
      "2023-02-01 12:17:05.755606: I tensorflow/core/common_runtime/pluggable_device/pluggable_device_factory.cc:271] Created TensorFlow device (/job:localhost/replica:0/task:0/device:GPU:0 with 0 MB memory) -> physical PluggableDevice (device: 0, name: METAL, pci bus id: <undefined>)\n",
      "/opt/homebrew/Caskroom/miniforge/base/lib/python3.9/site-packages/keras/optimizers/optimizer_v2/adam.py:110: UserWarning: The `lr` argument is deprecated, use `learning_rate` instead.\n",
      "  super(Adam, self).__init__(name, **kwargs)\n",
      "2023-02-01 12:17:05.882233: W tensorflow/core/platform/profile_utils/cpu_utils.cc:128] Failed to get CPU frequency: 0 Hz\n"
     ]
    },
    {
     "name": "stdout",
     "output_type": "stream",
     "text": [
      " 8/14 [================>.............] - ETA: 0s - loss: 1.1701 - accuracy: 0.4531"
     ]
    },
    {
     "name": "stderr",
     "output_type": "stream",
     "text": [
      "2023-02-01 12:17:06.076502: I tensorflow/core/grappler/optimizers/custom_graph_optimizer_registry.cc:113] Plugin optimizer for device_type GPU is enabled.\n"
     ]
    },
    {
     "name": "stdout",
     "output_type": "stream",
     "text": [
      "14/14 [==============================] - 1s 21ms/step - loss: 1.1272 - accuracy: 0.4571 - val_loss: 0.9725 - val_accuracy: 0.6222\n",
      "Epoch 2/15\n",
      "14/14 [==============================] - 0s 10ms/step - loss: 0.9080 - accuracy: 0.5810 - val_loss: 0.7838 - val_accuracy: 0.8222\n"
     ]
    },
    {
     "name": "stderr",
     "output_type": "stream",
     "text": [
      "2023-02-01 12:17:06.399711: I tensorflow/core/grappler/optimizers/custom_graph_optimizer_registry.cc:113] Plugin optimizer for device_type GPU is enabled.\n"
     ]
    },
    {
     "name": "stdout",
     "output_type": "stream",
     "text": [
      "Epoch 3/15\n",
      "14/14 [==============================] - 0s 10ms/step - loss: 0.7986 - accuracy: 0.6000 - val_loss: 0.6902 - val_accuracy: 0.6222\n",
      "Epoch 4/15\n",
      "14/14 [==============================] - 0s 11ms/step - loss: 0.6036 - accuracy: 0.8000 - val_loss: 0.6131 - val_accuracy: 0.6889\n",
      "Epoch 5/15\n",
      "14/14 [==============================] - 0s 11ms/step - loss: 0.5642 - accuracy: 0.7619 - val_loss: 0.5739 - val_accuracy: 0.8000\n",
      "Epoch 6/15\n",
      "14/14 [==============================] - 0s 11ms/step - loss: 0.5517 - accuracy: 0.7810 - val_loss: 0.5574 - val_accuracy: 0.6222\n",
      "Epoch 7/15\n",
      "14/14 [==============================] - 0s 11ms/step - loss: 0.5377 - accuracy: 0.7429 - val_loss: 0.5034 - val_accuracy: 0.9556\n",
      "Epoch 8/15\n",
      "14/14 [==============================] - 0s 11ms/step - loss: 0.5277 - accuracy: 0.7238 - val_loss: 0.4803 - val_accuracy: 0.9111\n",
      "Epoch 9/15\n",
      "14/14 [==============================] - 0s 11ms/step - loss: 0.4540 - accuracy: 0.8095 - val_loss: 0.4810 - val_accuracy: 0.6444\n",
      "Epoch 10/15\n",
      "14/14 [==============================] - 0s 11ms/step - loss: 0.4365 - accuracy: 0.8190 - val_loss: 0.4436 - val_accuracy: 0.9778\n",
      "Epoch 11/15\n",
      "14/14 [==============================] - 0s 11ms/step - loss: 0.4283 - accuracy: 0.8381 - val_loss: 0.4291 - val_accuracy: 0.8889\n",
      "Epoch 12/15\n",
      "14/14 [==============================] - 0s 12ms/step - loss: 0.4274 - accuracy: 0.7714 - val_loss: 0.4077 - val_accuracy: 1.0000\n",
      "Epoch 13/15\n",
      "14/14 [==============================] - 0s 12ms/step - loss: 0.3860 - accuracy: 0.8762 - val_loss: 0.3925 - val_accuracy: 0.9778\n",
      "Epoch 14/15\n",
      "14/14 [==============================] - 0s 12ms/step - loss: 0.3889 - accuracy: 0.7810 - val_loss: 0.4163 - val_accuracy: 0.7333\n",
      "Epoch 15/15\n",
      "14/14 [==============================] - 0s 11ms/step - loss: 0.3678 - accuracy: 0.9333 - val_loss: 0.3713 - val_accuracy: 0.9556\n"
     ]
    },
    {
     "data": {
      "text/plain": [
       "<keras.callbacks.History at 0x2a3c0bca0>"
      ]
     },
     "execution_count": 10,
     "metadata": {},
     "output_type": "execute_result"
    }
   ],
   "source": [
    "model = Sequential()\n",
    "model.add(Dense(128, input_dim=n_feat))\n",
    "model.add(Dropout(0.15))\n",
    "model.add(Dense(n_classes, activation='softmax'))\n",
    "\n",
    "batch_size = 8\n",
    "epochs = 15\n",
    "model.compile(loss=\"categorical_crossentropy\", optimizer=optimizers.Adam(lr=0.001), metrics=[\"accuracy\"])\n",
    "model.fit(X_train, y_train_bin, batch_size=batch_size, epochs=epochs, validation_data=(X_test, y_test_bin))\n"
   ]
  },
  {
   "cell_type": "code",
   "execution_count": 11,
   "id": "3881b223",
   "metadata": {},
   "outputs": [
    {
     "name": "stdout",
     "output_type": "stream",
     "text": [
      "Model: \"sequential\"\n",
      "_________________________________________________________________\n",
      " Layer (type)                Output Shape              Param #   \n",
      "=================================================================\n",
      " dense (Dense)               (None, 128)               640       \n",
      "                                                                 \n",
      " dropout (Dropout)           (None, 128)               0         \n",
      "                                                                 \n",
      " dense_1 (Dense)             (None, 3)                 387       \n",
      "                                                                 \n",
      "=================================================================\n",
      "Total params: 1,027\n",
      "Trainable params: 1,027\n",
      "Non-trainable params: 0\n",
      "_________________________________________________________________\n"
     ]
    }
   ],
   "source": [
    "model.summary()"
   ]
  },
  {
   "cell_type": "code",
   "execution_count": 12,
   "id": "812f3707",
   "metadata": {},
   "outputs": [
    {
     "data": {
      "image/png": "[encoded data removed]",
      "text/plain": [
       "<IPython.core.display.Image object>"
      ]
     },
     "execution_count": 12,
     "metadata": {},
     "output_type": "execute_result"
    }
   ],
   "source": [
    "tf.keras.utils.plot_model(model, to_file='img.png', show_shapes=True, show_layer_names=True)"
   ]
  },
  {
   "cell_type": "code",
   "execution_count": 13,
   "id": "931b93ef",
   "metadata": {},
   "outputs": [
    {
     "name": "stdout",
     "output_type": "stream",
     "text": [
      "2/2 [==============================] - 0s 8ms/step\n"
     ]
    },
    {
     "name": "stderr",
     "output_type": "stream",
     "text": [
      "2023-02-01 12:19:41.670387: I tensorflow/core/grappler/optimizers/custom_graph_optimizer_registry.cc:113] Plugin optimizer for device_type GPU is enabled.\n"
     ]
    },
    {
     "data": {
      "text/plain": [
       "array([[3.5339404e-02, 5.8405030e-01, 3.8061029e-01],\n",
       "       [6.1245635e-03, 3.3083972e-01, 6.6303575e-01],\n",
       "       [9.6086740e-01, 3.8327225e-02, 8.0535631e-04],\n",
       "       [4.9310021e-02, 5.4526722e-01, 4.0542275e-01],\n",
       "       [9.4350231e-01, 5.4893591e-02, 1.6040894e-03]], dtype=float32)"
      ]
     },
     "execution_count": 13,
     "metadata": {},
     "output_type": "execute_result"
    }
   ],
   "source": [
    "pred_proba = model.predict(X_test)\n",
    "pred_proba[:5]"
   ]
  },
  {
   "cell_type": "code",
   "execution_count": 14,
   "id": "447addef",
   "metadata": {},
   "outputs": [
    {
     "data": {
      "text/plain": [
       "array([1, 2, 0, 1, 0, 1, 2, 1, 0, 1, 2, 2, 1, 0, 0, 2, 1, 0, 0, 0, 2, 2,\n",
       "       2, 0, 1, 0, 1, 1, 1, 2, 1, 1, 2, 2, 2, 0, 2, 2, 2, 2, 0, 0, 1, 0,\n",
       "       1])"
      ]
     },
     "execution_count": 14,
     "metadata": {},
     "output_type": "execute_result"
    }
   ],
   "source": [
    "pred=np.argmax(pred_proba,axis=1)\n",
    "pred"
   ]
  },
  {
   "cell_type": "code",
   "execution_count": 15,
   "id": "47ddfe1b",
   "metadata": {},
   "outputs": [
    {
     "data": {
      "text/plain": [
       "array([1, 2, 0, 1, 0, 1, 1, 1, 0, 1, 1, 2, 1, 0, 0, 2, 1, 0, 0, 0, 2, 2,\n",
       "       2, 0, 1, 0, 1, 1, 1, 2, 1, 1, 2, 2, 2, 0, 2, 2, 2, 2, 0, 0, 1, 0,\n",
       "       1])"
      ]
     },
     "execution_count": 15,
     "metadata": {},
     "output_type": "execute_result"
    }
   ],
   "source": [
    "y_test"
   ]
  },
  {
   "cell_type": "code",
   "execution_count": 16,
   "id": "03cec00a",
   "metadata": {},
   "outputs": [
    {
     "name": "stdout",
     "output_type": "stream",
     "text": [
      "              precision    recall  f1-score   support\n",
      "\n",
      "           0       1.00      1.00      1.00        14\n",
      "           1       1.00      0.88      0.94        17\n",
      "           2       0.88      1.00      0.93        14\n",
      "\n",
      "    accuracy                           0.96        45\n",
      "   macro avg       0.96      0.96      0.96        45\n",
      "weighted avg       0.96      0.96      0.96        45\n",
      "\n"
     ]
    }
   ],
   "source": [
    "classf_report=classification_report(y_test, pred)\n",
    "print(classf_report)"
   ]
  },
  {
   "cell_type": "code",
   "execution_count": 17,
   "id": "e998be44",
   "metadata": {},
   "outputs": [
    {
     "data": {
      "text/plain": [
       "array([[14,  0,  0],\n",
       "       [ 0, 15,  2],\n",
       "       [ 0,  0, 14]])"
      ]
     },
     "execution_count": 17,
     "metadata": {},
     "output_type": "execute_result"
    }
   ],
   "source": [
    "confusion_matrix(y_test, pred)"
   ]
  },
  {
   "cell_type": "code",
   "execution_count": null,
   "id": "5ba7a7b8",
   "metadata": {},
   "outputs": [],
   "source": []
  }
 ],
 "metadata": {
  "kernelspec": {
   "display_name": "Python 3 (ipykernel)",
   "language": "python",
   "name": "python3"
  },
  "language_info": {
   "codemirror_mode": {
    "name": "ipython",
    "version": 3
   },
   "file_extension": ".py",
   "mimetype": "text/x-python",
   "name": "python",
   "nbconvert_exporter": "python",
   "pygments_lexer": "ipython3",
   "version": "3.9.13"
  }
 },
 "nbformat": 4,
 "nbformat_minor": 5
}
