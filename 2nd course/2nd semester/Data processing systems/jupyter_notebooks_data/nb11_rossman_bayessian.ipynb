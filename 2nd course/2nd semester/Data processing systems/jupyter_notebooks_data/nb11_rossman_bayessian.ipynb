{
 "cells": [
  {
   "cell_type": "markdown",
   "id": "0b197007",
   "metadata": {},
   "source": [
    "Methods of Machine Learning and Intellectual Analysis of Data (Learning course) \\\n",
    "Bohdan Pavlyshenko (https://www.linkedin.com/in/bpavlyshenko/) \\\n",
    "Youtube video: https://www.youtube.com/watch?v=hc12uAe2gdM&list=PLMQt7tnruMvF1jetHNUKjMtHKSp78H2bb&index=10"
   ]
  },
  {
   "cell_type": "markdown",
   "id": "d78ab548",
   "metadata": {},
   "source": [
    "# Bayessian Regression (Rossmann Store Sales)"
   ]
  },
  {
   "cell_type": "markdown",
   "id": "11524099",
   "metadata": {},
   "source": [
    "Used resource:\\\n",
    "https://www.kaggle.com/c/rossmann-store-sales"
   ]
  },
  {
   "cell_type": "code",
   "execution_count": 1,
   "id": "718706b6",
   "metadata": {
    "colab": {
     "base_uri": "https://localhost:8080/"
    },
    "executionInfo": {
     "elapsed": 8478,
     "status": "ok",
     "timestamp": 1673385782904,
     "user": {
      "displayName": "Bohdan Pavlyshenko",
      "userId": "12914084176667648133"
     },
     "user_tz": -120
    },
    "id": "718706b6",
    "outputId": "d1938839-0f9d-4fa6-ba36-038e4b1d2105"
   },
   "outputs": [],
   "source": [
    "#!pip install pystan"
   ]
  },
  {
   "cell_type": "code",
   "execution_count": 2,
   "id": "25138b76",
   "metadata": {
    "colab": {
     "base_uri": "https://localhost:8080/"
    },
    "executionInfo": {
     "elapsed": 8478,
     "status": "ok",
     "timestamp": 1673385782904,
     "user": {
      "displayName": "Bohdan Pavlyshenko",
      "userId": "12914084176667648133"
     },
     "user_tz": -120
    },
    "id": "718706b6",
    "outputId": "d1938839-0f9d-4fa6-ba36-038e4b1d2105"
   },
   "outputs": [
    {
     "ename": "ModuleNotFoundError",
     "evalue": "No module named 'stan'",
     "output_type": "error",
     "traceback": [
      "\u001b[0;31m---------------------------------------------------------------------------\u001b[0m",
      "\u001b[0;31mModuleNotFoundError\u001b[0m                       Traceback (most recent call last)",
      "Input \u001b[0;32mIn [2]\u001b[0m, in \u001b[0;36m<cell line: 4>\u001b[0;34m()\u001b[0m\n\u001b[1;32m      2\u001b[0m \u001b[38;5;28;01mimport\u001b[39;00m \u001b[38;5;21;01mnumpy\u001b[39;00m \u001b[38;5;28;01mas\u001b[39;00m \u001b[38;5;21;01mnp\u001b[39;00m\n\u001b[1;32m      3\u001b[0m \u001b[38;5;28;01mimport\u001b[39;00m \u001b[38;5;21;01mrandom\u001b[39;00m\n\u001b[0;32m----> 4\u001b[0m \u001b[38;5;28;01mimport\u001b[39;00m \u001b[38;5;21;01mstan\u001b[39;00m\n\u001b[1;32m      5\u001b[0m \u001b[38;5;28;01mimport\u001b[39;00m \u001b[38;5;21;01mnest_asyncio\u001b[39;00m\n\u001b[1;32m      6\u001b[0m \u001b[38;5;28;01mfrom\u001b[39;00m \u001b[38;5;21;01msklearn\u001b[39;00m\u001b[38;5;21;01m.\u001b[39;00m\u001b[38;5;21;01mpreprocessing\u001b[39;00m \u001b[38;5;28;01mimport\u001b[39;00m StandardScaler\n",
      "\u001b[0;31mModuleNotFoundError\u001b[0m: No module named 'stan'"
     ]
    }
   ],
   "source": [
    "import pandas as pd\n",
    "import numpy as np\n",
    "import random\n",
    "import stan\n",
    "import nest_asyncio\n",
    "from sklearn.preprocessing import StandardScaler\n",
    "from sklearn.preprocessing import LabelBinarizer\n",
    "from sklearn.model_selection import train_test_split\n",
    "from sklearn.linear_model import LassoCV,Lasso, LinearRegression\n",
    "from sklearn.impute import SimpleImputer\n",
    "from sklearn.preprocessing import OneHotEncoder\n",
    "from sklearn.metrics import mean_squared_error\n",
    "import matplotlib.pyplot as plt\n",
    "import seaborn as sns\n",
    "sns.set_style(\"whitegrid\")\n",
    "import warnings\n",
    "warnings.filterwarnings('ignore')\n",
    "pd.set_option('display.max_columns', None)"
   ]
  },
  {
   "cell_type": "code",
   "execution_count": 8,
   "id": "487fad0e",
   "metadata": {
    "colab": {
     "base_uri": "https://localhost:8080/"
    },
    "executionInfo": {
     "elapsed": 2397,
     "status": "ok",
     "timestamp": 1673388956208,
     "user": {
      "displayName": "Bohdan Pavlyshenko",
      "userId": "12914084176667648133"
     },
     "user_tz": -120
    },
    "id": "487fad0e",
    "outputId": "79609c64-fc79-452d-97ab-da652a7a5017"
   },
   "outputs": [
    {
     "name": "stdout",
     "output_type": "stream",
     "text": [
      "Drive already mounted at /content/drive; to attempt to forcibly remount, call drive.mount(\"/content/drive\", force_remount=True).\n"
     ]
    }
   ],
   "source": [
    "google_colab=True\n",
    "\n",
    "if(google_colab):\n",
    "    from google.colab import drive\n",
    "    drive.mount('/content/drive')\n",
    "    gdrive_dir='/content/drive/MyDrive/Colab Notebooks/pystan/'\n",
    "else:\n",
    "    gdrive_dir=''"
   ]
  },
  {
   "cell_type": "code",
   "execution_count": 9,
   "id": "f19c56f9",
   "metadata": {
    "executionInfo": {
     "elapsed": 7,
     "status": "ok",
     "timestamp": 1673388956208,
     "user": {
      "displayName": "Bohdan Pavlyshenko",
      "userId": "12914084176667648133"
     },
     "user_tz": -120
    },
    "id": "f19c56f9"
   },
   "outputs": [],
   "source": [
    "data_dir=gdrive_dir+\"data/\""
   ]
  },
  {
   "cell_type": "code",
   "execution_count": 11,
   "id": "b1a9adfe",
   "metadata": {
    "executionInfo": {
     "elapsed": 664,
     "status": "ok",
     "timestamp": 1673388962882,
     "user": {
      "displayName": "Bohdan Pavlyshenko",
      "userId": "12914084176667648133"
     },
     "user_tz": -120
    },
    "id": "b1a9adfe"
   },
   "outputs": [],
   "source": [
    "train_df=pd.read_csv(data_dir+'rossm_train_df.csv')\n",
    "test_df=pd.read_csv(data_dir+'rossm_test_df.csv')\n",
    "train_df.Date=pd.to_datetime(train_df.Date)\n",
    "test_df.Date=pd.to_datetime(test_df.Date)"
   ]
  },
  {
   "cell_type": "code",
   "execution_count": 12,
   "id": "ws69NAvWpS-s",
   "metadata": {
    "colab": {
     "base_uri": "https://localhost:8080/"
    },
    "executionInfo": {
     "elapsed": 253,
     "status": "ok",
     "timestamp": 1673388964231,
     "user": {
      "displayName": "Bohdan Pavlyshenko",
      "userId": "12914084176667648133"
     },
     "user_tz": -120
    },
    "id": "ws69NAvWpS-s",
    "outputId": "551de082-3b3b-4842-f47f-764ae00d4933"
   },
   "outputs": [
    {
     "data": {
      "text/plain": [
       "array([ 7, 28, 44, 47, 62, 65, 73, 77, 78, 80])"
      ]
     },
     "execution_count": 12,
     "metadata": {},
     "output_type": "execute_result"
    }
   ],
   "source": [
    "train_df.Store.unique()[:10]"
   ]
  },
  {
   "cell_type": "code",
   "execution_count": 13,
   "id": "LNUrI-DLpfcY",
   "metadata": {
    "executionInfo": {
     "elapsed": 393,
     "status": "ok",
     "timestamp": 1673388965928,
     "user": {
      "displayName": "Bohdan Pavlyshenko",
      "userId": "12914084176667648133"
     },
     "user_tz": -120
    },
    "id": "LNUrI-DLpfcY"
   },
   "outputs": [],
   "source": [
    "store=65"
   ]
  },
  {
   "cell_type": "code",
   "execution_count": 14,
   "id": "blSx7gr2pkmJ",
   "metadata": {
    "executionInfo": {
     "elapsed": 2,
     "status": "ok",
     "timestamp": 1673388966686,
     "user": {
      "displayName": "Bohdan Pavlyshenko",
      "userId": "12914084176667648133"
     },
     "user_tz": -120
    },
    "id": "blSx7gr2pkmJ"
   },
   "outputs": [],
   "source": [
    "train_df=train_df[train_df.Store==store]\n",
    "test_df=test_df[test_df.Store==store]"
   ]
  },
  {
   "cell_type": "code",
   "execution_count": 15,
   "id": "Vynn3IA5r_y3",
   "metadata": {
    "executionInfo": {
     "elapsed": 1,
     "status": "ok",
     "timestamp": 1673388968485,
     "user": {
      "displayName": "Bohdan Pavlyshenko",
      "userId": "12914084176667648133"
     },
     "user_tz": -120
    },
    "id": "Vynn3IA5r_y3"
   },
   "outputs": [],
   "source": [
    "train_df.reset_index(drop=True,inplace=True)\n",
    "test_df.reset_index(drop=True,inplace=True)"
   ]
  },
  {
   "cell_type": "code",
   "execution_count": 16,
   "id": "lkQxi67nrlVO",
   "metadata": {
    "colab": {
     "base_uri": "https://localhost:8080/"
    },
    "executionInfo": {
     "elapsed": 363,
     "status": "ok",
     "timestamp": 1673388970481,
     "user": {
      "displayName": "Bohdan Pavlyshenko",
      "userId": "12914084176667648133"
     },
     "user_tz": -120
    },
    "id": "lkQxi67nrlVO",
    "outputId": "770bccd7-1526-43c5-f398-9b59abc1b9e2"
   },
   "outputs": [
    {
     "data": {
      "text/plain": [
       "(730, 18)"
      ]
     },
     "execution_count": 16,
     "metadata": {},
     "output_type": "execute_result"
    }
   ],
   "source": [
    "train_df.shape"
   ]
  },
  {
   "cell_type": "code",
   "execution_count": 17,
   "id": "vikSOQtJpz4N",
   "metadata": {
    "colab": {
     "base_uri": "https://localhost:8080/",
     "height": 237
    },
    "executionInfo": {
     "elapsed": 805,
     "status": "ok",
     "timestamp": 1673388971703,
     "user": {
      "displayName": "Bohdan Pavlyshenko",
      "userId": "12914084176667648133"
     },
     "user_tz": -120
    },
    "id": "vikSOQtJpz4N",
    "outputId": "33b4cc9b-afce-48f6-e437-3574fb49d6bc"
   },
   "outputs": [
    {
     "data": {
      "image/png": "[encoded data removed]",
      "text/plain": [
       "<Figure size 1080x216 with 1 Axes>"
      ]
     },
     "metadata": {},
     "output_type": "display_data"
    }
   ],
   "source": [
    "_=train_df.set_index('Date')['2014-05':].logSales.plot(figsize=(15,3))"
   ]
  },
  {
   "cell_type": "code",
   "execution_count": 46,
   "id": "e96a4fa5",
   "metadata": {
    "executionInfo": {
     "elapsed": 276,
     "status": "ok",
     "timestamp": 1673390432849,
     "user": {
      "displayName": "Bohdan Pavlyshenko",
      "userId": "12914084176667648133"
     },
     "user_tz": -120
    },
    "id": "e96a4fa5"
   },
   "outputs": [],
   "source": [
    "numerical_features = [ 'Open','Promo','SchoolHoliday']\n",
    "categorical_features = [  'weekday', 'month']\n",
    "target = 'logSales'"
   ]
  },
  {
   "cell_type": "code",
   "execution_count": 19,
   "id": "9f10a1ee",
   "metadata": {
    "executionInfo": {
     "elapsed": 1,
     "status": "ok",
     "timestamp": 1673388974609,
     "user": {
      "displayName": "Bohdan Pavlyshenko",
      "userId": "12914084176667648133"
     },
     "user_tz": -120
    },
    "id": "9f10a1ee"
   },
   "outputs": [],
   "source": [
    "enc = OneHotEncoder(handle_unknown='ignore', sparse=False)\n",
    "train_enc=enc.fit_transform(train_df[categorical_features])\n",
    "test_enc=enc.transform(test_df[categorical_features])\n",
    "categorical_feat_enc=enc.get_feature_names_out(categorical_features)\n",
    "train_enc_df=pd.DataFrame(train_enc,columns=categorical_feat_enc)\n",
    "test_enc_df=pd.DataFrame(test_enc,columns=categorical_feat_enc)\n",
    "X_train_df=pd.concat([train_df[numerical_features], train_enc_df], axis=1)\n",
    "X_test_df=pd.concat([test_df[numerical_features], test_enc_df], axis=1, ignore_index=True)"
   ]
  },
  {
   "cell_type": "code",
   "execution_count": 20,
   "id": "3qiP-paxrtHq",
   "metadata": {
    "colab": {
     "base_uri": "https://localhost:8080/"
    },
    "executionInfo": {
     "elapsed": 457,
     "status": "ok",
     "timestamp": 1673388976577,
     "user": {
      "displayName": "Bohdan Pavlyshenko",
      "userId": "12914084176667648133"
     },
     "user_tz": -120
    },
    "id": "3qiP-paxrtHq",
    "outputId": "d9db5459-3624-4c90-f097-14b46b80da41"
   },
   "outputs": [
    {
     "data": {
      "text/plain": [
       "(730, 24)"
      ]
     },
     "execution_count": 20,
     "metadata": {},
     "output_type": "execute_result"
    }
   ],
   "source": [
    "X_train_df.shape"
   ]
  },
  {
   "cell_type": "code",
   "execution_count": 21,
   "id": "78dc41a9",
   "metadata": {
    "colab": {
     "base_uri": "https://localhost:8080/"
    },
    "executionInfo": {
     "elapsed": 4,
     "status": "ok",
     "timestamp": 1673388978089,
     "user": {
      "displayName": "Bohdan Pavlyshenko",
      "userId": "12914084176667648133"
     },
     "user_tz": -120
    },
    "id": "78dc41a9",
    "outputId": "2b2a051f-87e2-46e7-f3c3-d8cf966e5391"
   },
   "outputs": [
    {
     "data": {
      "text/plain": [
       "['Open',\n",
       " 'Promo',\n",
       " 'SchoolHoliday',\n",
       " 'logMonthSales',\n",
       " 'CompetitionDistance',\n",
       " 'weekday_0',\n",
       " 'weekday_1',\n",
       " 'weekday_2',\n",
       " 'weekday_3',\n",
       " 'weekday_4',\n",
       " 'weekday_5',\n",
       " 'weekday_6',\n",
       " 'month_1',\n",
       " 'month_2',\n",
       " 'month_3',\n",
       " 'month_4',\n",
       " 'month_5',\n",
       " 'month_6',\n",
       " 'month_7',\n",
       " 'month_8',\n",
       " 'month_9',\n",
       " 'month_10',\n",
       " 'month_11',\n",
       " 'month_12']"
      ]
     },
     "execution_count": 21,
     "metadata": {},
     "output_type": "execute_result"
    }
   ],
   "source": [
    "features=numerical_features+list(categorical_feat_enc)\n",
    "features"
   ]
  },
  {
   "cell_type": "code",
   "execution_count": 22,
   "id": "0a896af3",
   "metadata": {
    "executionInfo": {
     "elapsed": 304,
     "status": "ok",
     "timestamp": 1673388981289,
     "user": {
      "displayName": "Bohdan Pavlyshenko",
      "userId": "12914084176667648133"
     },
     "user_tz": -120
    },
    "id": "0a896af3"
   },
   "outputs": [],
   "source": [
    "X_train = X_train_df.values\n",
    "X_test = X_test_df.values\n",
    "y_train = train_df[target].values\n",
    "y_test = test_df[target].values"
   ]
  },
  {
   "cell_type": "code",
   "execution_count": 23,
   "id": "2300155e",
   "metadata": {
    "executionInfo": {
     "elapsed": 4,
     "status": "ok",
     "timestamp": 1673388982721,
     "user": {
      "displayName": "Bohdan Pavlyshenko",
      "userId": "12914084176667648133"
     },
     "user_tz": -120
    },
    "id": "2300155e"
   },
   "outputs": [],
   "source": [
    "scaler = StandardScaler()\n",
    "X_train_st=scaler.fit_transform(X_train)\n",
    "X_test_st=scaler.transform(X_test)"
   ]
  },
  {
   "cell_type": "code",
   "execution_count": 25,
   "id": "VksWidionFOa",
   "metadata": {
    "colab": {
     "base_uri": "https://localhost:8080/"
    },
    "executionInfo": {
     "elapsed": 3855,
     "status": "ok",
     "timestamp": 1673389002184,
     "user": {
      "displayName": "Bohdan Pavlyshenko",
      "userId": "12914084176667648133"
     },
     "user_tz": -120
    },
    "id": "VksWidionFOa",
    "outputId": "a059fd50-76aa-4487-c07a-12ebcd2f42fb"
   },
   "outputs": [
    {
     "name": "stdout",
     "output_type": "stream",
     "text": [
      "Looking in indexes: https://pypi.org/simple, https://us-python.pkg.dev/colab-wheels/public/simple/\n",
      "Collecting nest_asyncio\n",
      "  Downloading nest_asyncio-1.5.6-py3-none-any.whl (5.2 kB)\n",
      "Installing collected packages: nest_asyncio\n",
      "Successfully installed nest_asyncio-1.5.6\n"
     ]
    }
   ],
   "source": [
    "!pip install nest_asyncio"
   ]
  },
  {
   "cell_type": "code",
   "execution_count": 26,
   "id": "7b1c4649",
   "metadata": {
    "executionInfo": {
     "elapsed": 5,
     "status": "ok",
     "timestamp": 1673389005728,
     "user": {
      "displayName": "Bohdan Pavlyshenko",
      "userId": "12914084176667648133"
     },
     "user_tz": -120
    },
    "id": "7b1c4649"
   },
   "outputs": [],
   "source": [
    "nest_asyncio.apply()"
   ]
  },
  {
   "cell_type": "code",
   "execution_count": 27,
   "id": "5eb10550",
   "metadata": {
    "executionInfo": {
     "elapsed": 277,
     "status": "ok",
     "timestamp": 1673389010282,
     "user": {
      "displayName": "Bohdan Pavlyshenko",
      "userId": "12914084176667648133"
     },
     "user_tz": -120
    },
    "id": "5eb10550"
   },
   "outputs": [],
   "source": [
    "stan_model = \"\"\"\n",
    "data {\n",
    "    int<lower=1> n;\n",
    "    int<lower=1> n_train;\n",
    "    int<lower=1> k;\n",
    "    vector[n_train] y_train;\n",
    "    matrix[n_train, k] x_train;\n",
    "    matrix[n, k] x;\n",
    "    real par_a_sigma;\n",
    "    real par_beta_sigma;\n",
    "    real par_y_sigma;\n",
    "}\n",
    "\n",
    "parameters {\n",
    "    vector[k] beta;\n",
    "    real<lower=0> sigma;  \n",
    "    real a;\n",
    "}\n",
    "  \n",
    "model {\n",
    "a ~ normal(0,par_a_sigma);\n",
    "beta ~ normal(0,par_beta_sigma);\n",
    "sigma ~ cauchy(0,par_y_sigma);\n",
    "y_train ~ normal(a+x_train*beta, sigma);\n",
    "}\n",
    "\n",
    "generated quantities {\n",
    "  vector[n] pred;\n",
    "  for (i in 1:n){\n",
    "  pred[i]=  normal_rng(a+x[i,:]*beta, sigma);\n",
    "  }\n",
    "  }\n",
    "\"\"\"\n"
   ]
  },
  {
   "cell_type": "code",
   "execution_count": 28,
   "id": "b93755e7",
   "metadata": {
    "executionInfo": {
     "elapsed": 250,
     "status": "ok",
     "timestamp": 1673389020797,
     "user": {
      "displayName": "Bohdan Pavlyshenko",
      "userId": "12914084176667648133"
     },
     "user_tz": -120
    },
    "id": "b93755e7"
   },
   "outputs": [],
   "source": [
    "y_mean=y_train.mean()\n",
    "y_std=y_train.std()\n",
    "y_train_st=((y_train-y_mean)/y_std)"
   ]
  },
  {
   "cell_type": "code",
   "execution_count": 29,
   "id": "abyqWgchrA2R",
   "metadata": {
    "colab": {
     "base_uri": "https://localhost:8080/"
    },
    "executionInfo": {
     "elapsed": 420,
     "status": "ok",
     "timestamp": 1673389022463,
     "user": {
      "displayName": "Bohdan Pavlyshenko",
      "userId": "12914084176667648133"
     },
     "user_tz": -120
    },
    "id": "abyqWgchrA2R",
    "outputId": "6ec6bf4b-1551-4b63-8a33-5160e4547509"
   },
   "outputs": [
    {
     "data": {
      "text/plain": [
       "((730,), 730)"
      ]
     },
     "execution_count": 29,
     "metadata": {},
     "output_type": "execute_result"
    }
   ],
   "source": [
    "y_train_st.shape, X_train.shape[0]"
   ]
  },
  {
   "cell_type": "code",
   "execution_count": 30,
   "id": "176b83bd",
   "metadata": {
    "colab": {
     "base_uri": "https://localhost:8080/"
    },
    "executionInfo": {
     "elapsed": 29333,
     "status": "ok",
     "timestamp": 1673389053521,
     "user": {
      "displayName": "Bohdan Pavlyshenko",
      "userId": "12914084176667648133"
     },
     "user_tz": -120
    },
    "id": "176b83bd",
    "outputId": "a2f406ab-d54b-43d6-a21c-3fd7fef7ce1e"
   },
   "outputs": [
    {
     "name": "stdout",
     "output_type": "stream",
     "text": [
      "Building...\n"
     ]
    },
    {
     "name": "stderr",
     "output_type": "stream",
     "text": [
      "\n",
      "Building: 29.3s, done.Messages from stanc:\n",
      "Warning: The parameter sigma has no priors.\n",
      "Warning: The parameter beta has no priors.\n",
      "Warning: The parameter a has no priors.\n"
     ]
    }
   ],
   "source": [
    "par_a_sigma=1\n",
    "par_beta_sigma=1\n",
    "par_y_sigma=1\n",
    "data = {\n",
    "    'n_train': X_train.shape[0],\n",
    "    'k': X_train.shape[1],\n",
    "    'x_train':X_train_st,\n",
    "    'y_train': y_train_st,\n",
    "    'n': X_test_st.shape[0],\n",
    "    'x': X_test_st,\n",
    "    'par_a_sigma':par_a_sigma,\n",
    "    'par_beta_sigma':par_beta_sigma,\n",
    "    'par_y_sigma':par_y_sigma\n",
    "      }\n",
    "stan_model =  stan.build(stan_model, data=data, random_seed=1)"
   ]
  },
  {
   "cell_type": "code",
   "execution_count": 31,
   "id": "39235db1",
   "metadata": {
    "colab": {
     "base_uri": "https://localhost:8080/"
    },
    "executionInfo": {
     "elapsed": 237386,
     "status": "ok",
     "timestamp": 1673389296258,
     "user": {
      "displayName": "Bohdan Pavlyshenko",
      "userId": "12914084176667648133"
     },
     "user_tz": -120
    },
    "id": "39235db1",
    "outputId": "1a7331f6-fa2a-483c-b0bd-d0e2427adb2c"
   },
   "outputs": [
    {
     "name": "stderr",
     "output_type": "stream",
     "text": [
      "Sampling:   0%\n",
      "Sampling:   0% (1/9900)\n",
      "Sampling:   0% (2/9900)\n",
      "Sampling:   1% (101/9900)\n",
      "Sampling:   2% (200/9900)\n",
      "Sampling:   3% (300/9900)\n",
      "Sampling:   4% (400/9900)\n",
      "Sampling:   5% (501/9900)\n",
      "Sampling:   6% (602/9900)\n",
      "Sampling:   7% (701/9900)\n",
      "Sampling:   8% (800/9900)\n",
      "Sampling:   9% (900/9900)\n",
      "Sampling:  10% (1000/9900)\n",
      "Sampling:  11% (1100/9900)\n",
      "Sampling:  12% (1200/9900)\n",
      "Sampling:  13% (1300/9900)\n",
      "Sampling:  14% (1400/9900)\n",
      "Sampling:  15% (1500/9900)\n",
      "Sampling:  16% (1600/9900)\n",
      "Sampling:  17% (1700/9900)\n",
      "Sampling:  18% (1800/9900)\n",
      "Sampling:  19% (1900/9900)\n",
      "Sampling:  20% (2000/9900)\n",
      "Sampling:  21% (2100/9900)\n",
      "Sampling:  22% (2200/9900)\n",
      "Sampling:  23% (2300/9900)\n",
      "Sampling:  24% (2400/9900)\n",
      "Sampling:  25% (2500/9900)\n",
      "Sampling:  26% (2600/9900)\n",
      "Sampling:  27% (2700/9900)\n",
      "Sampling:  28% (2800/9900)\n",
      "Sampling:  29% (2900/9900)\n",
      "Sampling:  30% (3000/9900)\n",
      "Sampling:  31% (3100/9900)\n",
      "Sampling:  32% (3200/9900)\n",
      "Sampling:  33% (3300/9900)\n",
      "Sampling:  34% (3400/9900)\n",
      "Sampling:  35% (3500/9900)\n",
      "Sampling:  36% (3600/9900)\n",
      "Sampling:  37% (3700/9900)\n",
      "Sampling:  38% (3800/9900)\n",
      "Sampling:  39% (3900/9900)\n",
      "Sampling:  40% (4000/9900)\n",
      "Sampling:  41% (4100/9900)\n",
      "Sampling:  42% (4200/9900)\n",
      "Sampling:  43% (4300/9900)\n",
      "Sampling:  44% (4400/9900)\n",
      "Sampling:  45% (4500/9900)\n",
      "Sampling:  46% (4600/9900)\n",
      "Sampling:  47% (4700/9900)\n",
      "Sampling:  48% (4800/9900)\n",
      "Sampling:  49% (4900/9900)\n",
      "Sampling:  51% (5000/9900)\n",
      "Sampling:  52% (5100/9900)\n",
      "Sampling:  53% (5200/9900)\n",
      "Sampling:  54% (5300/9900)\n",
      "Sampling:  55% (5400/9900)\n",
      "Sampling:  56% (5500/9900)\n",
      "Sampling:  57% (5600/9900)\n",
      "Sampling:  58% (5700/9900)\n",
      "Sampling:  59% (5800/9900)\n",
      "Sampling:  60% (5900/9900)\n",
      "Sampling:  61% (6000/9900)\n",
      "Sampling:  62% (6100/9900)\n",
      "Sampling:  63% (6200/9900)\n",
      "Sampling:  64% (6300/9900)\n",
      "Sampling:  65% (6400/9900)\n",
      "Sampling:  65% (6401/9900)\n",
      "Sampling:  66% (6501/9900)\n",
      "Sampling:  67% (6600/9900)\n",
      "Sampling:  68% (6700/9900)\n",
      "Sampling:  69% (6800/9900)\n",
      "Sampling:  70% (6901/9900)\n",
      "Sampling:  71% (7000/9900)\n",
      "Sampling:  72% (7100/9900)\n",
      "Sampling:  73% (7200/9900)\n",
      "Sampling:  74% (7300/9900)\n",
      "Sampling:  75% (7400/9900)\n",
      "Sampling:  76% (7500/9900)\n",
      "Sampling:  77% (7600/9900)\n",
      "Sampling:  78% (7700/9900)\n",
      "Sampling:  79% (7800/9900)\n",
      "Sampling:  80% (7900/9900)\n",
      "Sampling:  81% (8000/9900)\n",
      "Sampling:  82% (8100/9900)\n",
      "Sampling:  83% (8200/9900)\n",
      "Sampling:  84% (8300/9900)\n",
      "Sampling:  85% (8400/9900)\n",
      "Sampling:  86% (8500/9900)\n",
      "Sampling:  87% (8600/9900)\n",
      "Sampling:  88% (8700/9900)\n",
      "Sampling:  89% (8800/9900)\n",
      "Sampling:  90% (8900/9900)\n",
      "Sampling:  91% (9000/9900)\n",
      "Sampling:  92% (9100/9900)\n",
      "Sampling:  93% (9200/9900)\n",
      "Sampling:  94% (9300/9900)\n",
      "Sampling:  95% (9400/9900)\n",
      "Sampling:  96% (9500/9900)\n",
      "Sampling:  97% (9600/9900)\n",
      "Sampling:  98% (9700/9900)\n",
      "Sampling:  99% (9800/9900)\n",
      "Sampling: 100% (9900/9900)\n",
      "Sampling: 100% (9900/9900), done.\n",
      "Messages received during sampling:\n",
      "  Gradient evaluation took 0.000135 seconds\n",
      "  1000 transitions using 10 leapfrog steps per transition would take 1.35 seconds.\n",
      "  Adjust your expectations accordingly!\n",
      "  Gradient evaluation took 0.000126 seconds\n",
      "  1000 transitions using 10 leapfrog steps per transition would take 1.26 seconds.\n",
      "  Adjust your expectations accordingly!\n",
      "  Informational Message: The current Metropolis proposal is about to be rejected because of the following issue:\n",
      "  Exception: normal_lpdf: Scale parameter is 0, but must be positive! (in '/tmp/httpstan_eyvcuk2m/model_x2fgyrqv.stan', line 24, column 0 to column 39)\n",
      "  If this warning occurs sporadically, such as for highly constrained variable types like covariance matrices, then the sampler is fine,\n",
      "  but if this warning occurs often then your model may be either severely ill-conditioned or misspecified.\n",
      "  Gradient evaluation took 6.7e-05 seconds\n",
      "  1000 transitions using 10 leapfrog steps per transition would take 0.67 seconds.\n",
      "  Adjust your expectations accordingly!\n"
     ]
    }
   ],
   "source": [
    "num_samples=3000\n",
    "fit = stan_model.sample(num_chains=3, num_samples=num_samples,  num_warmup=300, save_warmup=False)"
   ]
  },
  {
   "cell_type": "code",
   "execution_count": 32,
   "id": "KXFzHldZyVJs",
   "metadata": {
    "executionInfo": {
     "elapsed": 271,
     "status": "ok",
     "timestamp": 1673389554056,
     "user": {
      "displayName": "Bohdan Pavlyshenko",
      "userId": "12914084176667648133"
     },
     "user_tz": -120
    },
    "id": "KXFzHldZyVJs"
   },
   "outputs": [],
   "source": [
    "pred_st=fit['pred']\n",
    "pred=pred_st*y_std+y_mean"
   ]
  },
  {
   "cell_type": "code",
   "execution_count": 35,
   "id": "mnjCetBKytHx",
   "metadata": {
    "executionInfo": {
     "elapsed": 256,
     "status": "ok",
     "timestamp": 1673389860108,
     "user": {
      "displayName": "Bohdan Pavlyshenko",
      "userId": "12914084176667648133"
     },
     "user_tz": -120
    },
    "id": "mnjCetBKytHx"
   },
   "outputs": [],
   "source": [
    "test_df['pred_mean']=pred.mean(axis=1)\n",
    "test_df['pred_q05']=np.quantile(pred,q=0.05,axis=1)\n",
    "test_df['pred_q95']=np.quantile(pred,q=0.95,axis=1)"
   ]
  },
  {
   "cell_type": "code",
   "execution_count": 40,
   "id": "y_E2yGa8zuzM",
   "metadata": {
    "colab": {
     "base_uri": "https://localhost:8080/",
     "height": 369
    },
    "executionInfo": {
     "elapsed": 1578,
     "status": "ok",
     "timestamp": 1673390045722,
     "user": {
      "displayName": "Bohdan Pavlyshenko",
      "userId": "12914084176667648133"
     },
     "user_tz": -120
    },
    "id": "y_E2yGa8zuzM",
    "outputId": "2440bf38-76bd-44ae-d205-870bcb277107"
   },
   "outputs": [
    {
     "data": {
      "image/png": "[encoded data removed]",
      "text/plain": [
       "<Figure size 1080x360 with 1 Axes>"
      ]
     },
     "metadata": {},
     "output_type": "display_data"
    }
   ],
   "source": [
    "_=test_df.set_index('Date')[:'2015-04-01'][['pred_mean','logSales','pred_q05','pred_q95']].plot(figsize=(15,5))"
   ]
  },
  {
   "cell_type": "code",
   "execution_count": null,
   "id": "0sOY9Tmj00u6",
   "metadata": {
    "id": "0sOY9Tmj00u6"
   },
   "outputs": [],
   "source": []
  },
  {
   "cell_type": "code",
   "execution_count": 44,
   "id": "UA7vuecnzCb_",
   "metadata": {
    "colab": {
     "base_uri": "https://localhost:8080/",
     "height": 793
    },
    "executionInfo": {
     "elapsed": 268,
     "status": "ok",
     "timestamp": 1673390252871,
     "user": {
      "displayName": "Bohdan Pavlyshenko",
      "userId": "12914084176667648133"
     },
     "user_tz": -120
    },
    "id": "UA7vuecnzCb_",
    "outputId": "33f9f9d0-7e38-4eb6-c79c-2b857280a273"
   },
   "outputs": [
    {
     "data": {
      "text/html": [
       "\n",
       "  <div id=\"df-09ad1ef9-44d3-48b0-bb28-a1265c1fc352\">\n",
       "    <div class=\"colab-df-container\">\n",
       "      <div>\n",
       "<style scoped>\n",
       "    .dataframe tbody tr th:only-of-type {\n",
       "        vertical-align: middle;\n",
       "    }\n",
       "\n",
       "    .dataframe tbody tr th {\n",
       "        vertical-align: top;\n",
       "    }\n",
       "\n",
       "    .dataframe thead th {\n",
       "        text-align: right;\n",
       "    }\n",
       "</style>\n",
       "<table border=\"1\" class=\"dataframe\">\n",
       "  <thead>\n",
       "    <tr style=\"text-align: right;\">\n",
       "      <th></th>\n",
       "      <th>features</th>\n",
       "      <th>beta_mean</th>\n",
       "      <th>beta_std</th>\n",
       "      <th>var_coef</th>\n",
       "    </tr>\n",
       "  </thead>\n",
       "  <tbody>\n",
       "    <tr>\n",
       "      <th>0</th>\n",
       "      <td>Open</td>\n",
       "      <td>1.002261</td>\n",
       "      <td>0.004356</td>\n",
       "      <td>0.004347</td>\n",
       "    </tr>\n",
       "    <tr>\n",
       "      <th>1</th>\n",
       "      <td>Promo</td>\n",
       "      <td>0.053489</td>\n",
       "      <td>0.002137</td>\n",
       "      <td>0.039953</td>\n",
       "    </tr>\n",
       "    <tr>\n",
       "      <th>2</th>\n",
       "      <td>SchoolHoliday</td>\n",
       "      <td>0.005151</td>\n",
       "      <td>0.002228</td>\n",
       "      <td>0.432520</td>\n",
       "    </tr>\n",
       "    <tr>\n",
       "      <th>3</th>\n",
       "      <td>logMonthSales</td>\n",
       "      <td>-0.008142</td>\n",
       "      <td>1.004340</td>\n",
       "      <td>123.346717</td>\n",
       "    </tr>\n",
       "    <tr>\n",
       "      <th>4</th>\n",
       "      <td>CompetitionDistance</td>\n",
       "      <td>0.020416</td>\n",
       "      <td>0.992248</td>\n",
       "      <td>48.601619</td>\n",
       "    </tr>\n",
       "    <tr>\n",
       "      <th>5</th>\n",
       "      <td>weekday_0</td>\n",
       "      <td>0.005030</td>\n",
       "      <td>0.380275</td>\n",
       "      <td>75.607733</td>\n",
       "    </tr>\n",
       "    <tr>\n",
       "      <th>6</th>\n",
       "      <td>weekday_1</td>\n",
       "      <td>-0.004031</td>\n",
       "      <td>0.381817</td>\n",
       "      <td>94.711646</td>\n",
       "    </tr>\n",
       "    <tr>\n",
       "      <th>7</th>\n",
       "      <td>weekday_2</td>\n",
       "      <td>-0.016988</td>\n",
       "      <td>0.381811</td>\n",
       "      <td>22.475074</td>\n",
       "    </tr>\n",
       "    <tr>\n",
       "      <th>8</th>\n",
       "      <td>weekday_3</td>\n",
       "      <td>-0.007275</td>\n",
       "      <td>0.380284</td>\n",
       "      <td>52.271955</td>\n",
       "    </tr>\n",
       "    <tr>\n",
       "      <th>9</th>\n",
       "      <td>weekday_4</td>\n",
       "      <td>-0.002714</td>\n",
       "      <td>0.380278</td>\n",
       "      <td>140.119698</td>\n",
       "    </tr>\n",
       "    <tr>\n",
       "      <th>10</th>\n",
       "      <td>weekday_5</td>\n",
       "      <td>-0.049851</td>\n",
       "      <td>0.380315</td>\n",
       "      <td>7.629062</td>\n",
       "    </tr>\n",
       "    <tr>\n",
       "      <th>11</th>\n",
       "      <td>weekday_6</td>\n",
       "      <td>0.011560</td>\n",
       "      <td>0.380211</td>\n",
       "      <td>32.891224</td>\n",
       "    </tr>\n",
       "    <tr>\n",
       "      <th>12</th>\n",
       "      <td>month_1</td>\n",
       "      <td>-0.008310</td>\n",
       "      <td>0.284621</td>\n",
       "      <td>34.252270</td>\n",
       "    </tr>\n",
       "    <tr>\n",
       "      <th>13</th>\n",
       "      <td>month_2</td>\n",
       "      <td>-0.006595</td>\n",
       "      <td>0.271718</td>\n",
       "      <td>41.199367</td>\n",
       "    </tr>\n",
       "    <tr>\n",
       "      <th>14</th>\n",
       "      <td>month_3</td>\n",
       "      <td>-0.001172</td>\n",
       "      <td>0.284602</td>\n",
       "      <td>242.904882</td>\n",
       "    </tr>\n",
       "    <tr>\n",
       "      <th>15</th>\n",
       "      <td>month_4</td>\n",
       "      <td>-0.004756</td>\n",
       "      <td>0.280410</td>\n",
       "      <td>58.954013</td>\n",
       "    </tr>\n",
       "    <tr>\n",
       "      <th>16</th>\n",
       "      <td>month_5</td>\n",
       "      <td>-0.003272</td>\n",
       "      <td>0.284615</td>\n",
       "      <td>86.976272</td>\n",
       "    </tr>\n",
       "    <tr>\n",
       "      <th>17</th>\n",
       "      <td>month_6</td>\n",
       "      <td>-0.001982</td>\n",
       "      <td>0.280384</td>\n",
       "      <td>141.473135</td>\n",
       "    </tr>\n",
       "    <tr>\n",
       "      <th>18</th>\n",
       "      <td>month_7</td>\n",
       "      <td>-0.006070</td>\n",
       "      <td>0.284578</td>\n",
       "      <td>46.884984</td>\n",
       "    </tr>\n",
       "    <tr>\n",
       "      <th>19</th>\n",
       "      <td>month_8</td>\n",
       "      <td>-0.009849</td>\n",
       "      <td>0.284608</td>\n",
       "      <td>28.896422</td>\n",
       "    </tr>\n",
       "    <tr>\n",
       "      <th>20</th>\n",
       "      <td>month_9</td>\n",
       "      <td>-0.005931</td>\n",
       "      <td>0.280382</td>\n",
       "      <td>47.270926</td>\n",
       "    </tr>\n",
       "    <tr>\n",
       "      <th>21</th>\n",
       "      <td>month_10</td>\n",
       "      <td>-0.004726</td>\n",
       "      <td>0.284618</td>\n",
       "      <td>60.218989</td>\n",
       "    </tr>\n",
       "    <tr>\n",
       "      <th>22</th>\n",
       "      <td>month_11</td>\n",
       "      <td>-0.000330</td>\n",
       "      <td>0.280400</td>\n",
       "      <td>850.724843</td>\n",
       "    </tr>\n",
       "    <tr>\n",
       "      <th>23</th>\n",
       "      <td>month_12</td>\n",
       "      <td>0.019550</td>\n",
       "      <td>0.284635</td>\n",
       "      <td>14.559179</td>\n",
       "    </tr>\n",
       "  </tbody>\n",
       "</table>\n",
       "</div>\n",
       "      <button class=\"colab-df-convert\" onclick=\"convertToInteractive('df-09ad1ef9-44d3-48b0-bb28-a1265c1fc352')\"\n",
       "              title=\"Convert this dataframe to an interactive table.\"\n",
       "              style=\"display:none;\">\n",
       "        \n",
       "  <svg xmlns=\"http://www.w3.org/2000/svg\" height=\"24px\"viewBox=\"0 0 24 24\"\n",
       "       width=\"24px\">\n",
       "    <path d=\"M0 0h24v24H0V0z\" fill=\"none\"/>\n",
       "    <path d=\"M18.56 5.44l.94 2.06.94-2.06 2.06-.94-2.06-.94-.94-2.06-.94 2.06-2.06.94zm-11 1L8.5 8.5l.94-2.06 2.06-.94-2.06-.94L8.5 2.5l-.94 2.06-2.06.94zm10 10l.94 2.06.94-2.06 2.06-.94-2.06-.94-.94-2.06-.94 2.06-2.06.94z\"/><path d=\"M17.41 7.96l-1.37-1.37c-.4-.4-.92-.59-1.43-.59-.52 0-1.04.2-1.43.59L10.3 9.45l-7.72 7.72c-.78.78-.78 2.05 0 2.83L4 21.41c.39.39.9.59 1.41.59.51 0 1.02-.2 1.41-.59l7.78-7.78 2.81-2.81c.8-.78.8-2.07 0-2.86zM5.41 20L4 18.59l7.72-7.72 1.47 1.35L5.41 20z\"/>\n",
       "  </svg>\n",
       "      </button>\n",
       "      \n",
       "  <style>\n",
       "    .colab-df-container {\n",
       "      display:flex;\n",
       "      flex-wrap:wrap;\n",
       "      gap: 12px;\n",
       "    }\n",
       "\n",
       "    .colab-df-convert {\n",
       "      background-color: #E8F0FE;\n",
       "      border: none;\n",
       "      border-radius: 50%;\n",
       "      cursor: pointer;\n",
       "      display: none;\n",
       "      fill: #1967D2;\n",
       "      height: 32px;\n",
       "      padding: 0 0 0 0;\n",
       "      width: 32px;\n",
       "    }\n",
       "\n",
       "    .colab-df-convert:hover {\n",
       "      background-color: #E2EBFA;\n",
       "      box-shadow: 0px 1px 2px rgba(60, 64, 67, 0.3), 0px 1px 3px 1px rgba(60, 64, 67, 0.15);\n",
       "      fill: #174EA6;\n",
       "    }\n",
       "\n",
       "    [theme=dark] .colab-df-convert {\n",
       "      background-color: #3B4455;\n",
       "      fill: #D2E3FC;\n",
       "    }\n",
       "\n",
       "    [theme=dark] .colab-df-convert:hover {\n",
       "      background-color: #434B5C;\n",
       "      box-shadow: 0px 1px 3px 1px rgba(0, 0, 0, 0.15);\n",
       "      filter: drop-shadow(0px 1px 2px rgba(0, 0, 0, 0.3));\n",
       "      fill: #FFFFFF;\n",
       "    }\n",
       "  </style>\n",
       "\n",
       "      <script>\n",
       "        const buttonEl =\n",
       "          document.querySelector('#df-09ad1ef9-44d3-48b0-bb28-a1265c1fc352 button.colab-df-convert');\n",
       "        buttonEl.style.display =\n",
       "          google.colab.kernel.accessAllowed ? 'block' : 'none';\n",
       "\n",
       "        async function convertToInteractive(key) {\n",
       "          const element = document.querySelector('#df-09ad1ef9-44d3-48b0-bb28-a1265c1fc352');\n",
       "          const dataTable =\n",
       "            await google.colab.kernel.invokeFunction('convertToInteractive',\n",
       "                                                     [key], {});\n",
       "          if (!dataTable) return;\n",
       "\n",
       "          const docLinkHtml = 'Like what you see? Visit the ' +\n",
       "            '<a target=\"_blank\" href=https://colab.research.google.com/notebooks/data_table.ipynb>data table notebook</a>'\n",
       "            + ' to learn more about interactive tables.';\n",
       "          element.innerHTML = '';\n",
       "          dataTable['output_type'] = 'display_data';\n",
       "          await google.colab.output.renderOutput(dataTable, element);\n",
       "          const docLink = document.createElement('div');\n",
       "          docLink.innerHTML = docLinkHtml;\n",
       "          element.appendChild(docLink);\n",
       "        }\n",
       "      </script>\n",
       "    </div>\n",
       "  </div>\n",
       "  "
      ],
      "text/plain": [
       "               features  beta_mean  beta_std    var_coef\n",
       "0                  Open   1.002261  0.004356    0.004347\n",
       "1                 Promo   0.053489  0.002137    0.039953\n",
       "2         SchoolHoliday   0.005151  0.002228    0.432520\n",
       "3         logMonthSales  -0.008142  1.004340  123.346717\n",
       "4   CompetitionDistance   0.020416  0.992248   48.601619\n",
       "5             weekday_0   0.005030  0.380275   75.607733\n",
       "6             weekday_1  -0.004031  0.381817   94.711646\n",
       "7             weekday_2  -0.016988  0.381811   22.475074\n",
       "8             weekday_3  -0.007275  0.380284   52.271955\n",
       "9             weekday_4  -0.002714  0.380278  140.119698\n",
       "10            weekday_5  -0.049851  0.380315    7.629062\n",
       "11            weekday_6   0.011560  0.380211   32.891224\n",
       "12              month_1  -0.008310  0.284621   34.252270\n",
       "13              month_2  -0.006595  0.271718   41.199367\n",
       "14              month_3  -0.001172  0.284602  242.904882\n",
       "15              month_4  -0.004756  0.280410   58.954013\n",
       "16              month_5  -0.003272  0.284615   86.976272\n",
       "17              month_6  -0.001982  0.280384  141.473135\n",
       "18              month_7  -0.006070  0.284578   46.884984\n",
       "19              month_8  -0.009849  0.284608   28.896422\n",
       "20              month_9  -0.005931  0.280382   47.270926\n",
       "21             month_10  -0.004726  0.284618   60.218989\n",
       "22             month_11  -0.000330  0.280400  850.724843\n",
       "23             month_12   0.019550  0.284635   14.559179"
      ]
     },
     "execution_count": 44,
     "metadata": {},
     "output_type": "execute_result"
    }
   ],
   "source": [
    "beta=fit['beta']\n",
    "beta_mean=beta.mean(axis=1)\n",
    "beta_std=beta.std(axis=1)\n",
    "beta_df=pd.DataFrame({'features':features, 'beta_mean':beta_mean,'beta_std':beta_std})\n",
    "beta_df"
   ]
  },
  {
   "cell_type": "code",
   "execution_count": 51,
   "id": "6dJ0WfJw3Ro0",
   "metadata": {
    "colab": {
     "base_uri": "https://localhost:8080/",
     "height": 215
    },
    "executionInfo": {
     "elapsed": 789,
     "status": "ok",
     "timestamp": 1673390850866,
     "user": {
      "displayName": "Bohdan Pavlyshenko",
      "userId": "12914084176667648133"
     },
     "user_tz": -120
    },
    "id": "6dJ0WfJw3Ro0",
    "outputId": "f7d11962-1845-41be-8d8a-17543d57dda0"
   },
   "outputs": [
    {
     "data": {
      "image/png": "[encoded data removed]",
      "text/plain": [
       "<Figure size 1080x216 with 1 Axes>"
      ]
     },
     "metadata": {},
     "output_type": "display_data"
    }
   ],
   "source": [
    "_=pd.Series(beta[1,:3000]).plot(figsize=(15,3))"
   ]
  },
  {
   "cell_type": "code",
   "execution_count": 45,
   "id": "nwI_OWqT01VW",
   "metadata": {
    "colab": {
     "base_uri": "https://localhost:8080/",
     "height": 282
    },
    "executionInfo": {
     "elapsed": 614,
     "status": "ok",
     "timestamp": 1673390293784,
     "user": {
      "displayName": "Bohdan Pavlyshenko",
      "userId": "12914084176667648133"
     },
     "user_tz": -120
    },
    "id": "nwI_OWqT01VW",
    "outputId": "89500f0a-6878-40b6-e6fa-fe6e8e915142"
   },
   "outputs": [
    {
     "data": {
      "text/plain": [
       "<matplotlib.axes._subplots.AxesSubplot at 0x7f9413d54580>"
      ]
     },
     "execution_count": 45,
     "metadata": {},
     "output_type": "execute_result"
    },
    {
     "data": {
      "image/png": "[encoded data removed]",
      "text/plain": [
       "<Figure size 432x288 with 1 Axes>"
      ]
     },
     "metadata": {},
     "output_type": "display_data"
    }
   ],
   "source": [
    "pd.Series(beta[1]).plot(kind='density')"
   ]
  },
  {
   "cell_type": "code",
   "execution_count": 49,
   "id": "o4ZgipyZ2LkV",
   "metadata": {
    "colab": {
     "base_uri": "https://localhost:8080/"
    },
    "executionInfo": {
     "elapsed": 276,
     "status": "ok",
     "timestamp": 1673390721331,
     "user": {
      "displayName": "Bohdan Pavlyshenko",
      "userId": "12914084176667648133"
     },
     "user_tz": -120
    },
    "id": "o4ZgipyZ2LkV",
    "outputId": "65d2e9b1-d395-49d0-9778-8547fc9d2dda"
   },
   "outputs": [
    {
     "name": "stdout",
     "output_type": "stream",
     "text": [
      "test RMSE=0.153\n"
     ]
    }
   ],
   "source": [
    "test_rmse = np.round(mean_squared_error(test_df[target], test_df['pred_mean'], squared=False),3)\n",
    "print(f'test RMSE={test_rmse}')"
   ]
  }
 ],
 "metadata": {
  "accelerator": "GPU",
  "colab": {
   "provenance": []
  },
  "gpuClass": "standard",
  "kernelspec": {
   "display_name": "Python 3 (ipykernel)",
   "language": "python",
   "name": "python3"
  },
  "language_info": {
   "codemirror_mode": {
    "name": "ipython",
    "version": 3
   },
   "file_extension": ".py",
   "mimetype": "text/x-python",
   "name": "python",
   "nbconvert_exporter": "python",
   "pygments_lexer": "ipython3",
   "version": "3.9.13"
  }
 },
 "nbformat": 4,
 "nbformat_minor": 5
}
