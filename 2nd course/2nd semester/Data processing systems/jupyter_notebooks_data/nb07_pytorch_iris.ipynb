{
 "cells": [
  {
   "cell_type": "markdown",
   "id": "ca4273fc",
   "metadata": {},
   "source": [
    "Methods of Machine Learning and Intellectual Analysis of Data (Learning course) \\\n",
    "Bohdan Pavlyshenko (https://www.linkedin.com/in/bpavlyshenko/) \\\n",
    "Yotube video: https://www.youtube.com/watch?v=JiK9_u6lFZs&list=PLMQt7tnruMvF1jetHNUKjMtHKSp78H2bb&index=7"
   ]
  },
  {
   "cell_type": "markdown",
   "id": "e698b683",
   "metadata": {},
   "source": [
    "# Classification (Pytorch, Iris Dataset)"
   ]
  },
  {
   "cell_type": "code",
   "execution_count": 1,
   "id": "4ddb42c7",
   "metadata": {},
   "outputs": [],
   "source": [
    "import pandas as pd\n",
    "import torch\n",
    "import numpy as np\n",
    "from sklearn.datasets import load_iris\n",
    "from sklearn.model_selection import train_test_split\n",
    "from transformers import BertTokenizer, BertModel\n",
    "from torch import nn\n",
    "from torch.optim import Adam\n",
    "from tqdm import tqdm\n",
    "from torch.utils.data import DataLoader\n",
    "from matplotlib import pyplot as plt\n",
    "from sklearn.preprocessing import StandardScaler\n",
    "import seaborn as sns\n",
    "sns.set_style(\"whitegrid\")\n",
    "%matplotlib inline"
   ]
  },
  {
   "cell_type": "code",
   "execution_count": 2,
   "id": "28831f98",
   "metadata": {},
   "outputs": [
    {
     "data": {
      "text/plain": [
       "device(type='cpu')"
      ]
     },
     "execution_count": 2,
     "metadata": {},
     "output_type": "execute_result"
    }
   ],
   "source": [
    "device = torch.device(\"cuda:0\" if torch.cuda.is_available() else \"cpu\")\n",
    "device"
   ]
  },
  {
   "cell_type": "code",
   "execution_count": 3,
   "id": "5f5dfcf3",
   "metadata": {},
   "outputs": [],
   "source": [
    "iris_data = load_iris()\n",
    "X_iris = iris_data.data\n",
    "y_iris = iris_data.target"
   ]
  },
  {
   "cell_type": "code",
   "execution_count": 4,
   "id": "0c5cbee2",
   "metadata": {},
   "outputs": [
    {
     "data": {
      "text/plain": [
       "(150, 4)"
      ]
     },
     "execution_count": 4,
     "metadata": {},
     "output_type": "execute_result"
    }
   ],
   "source": [
    "X_iris.shape"
   ]
  },
  {
   "cell_type": "code",
   "execution_count": 5,
   "id": "8a2664e6",
   "metadata": {},
   "outputs": [
    {
     "data": {
      "text/plain": [
       "array([[5.1, 3.5, 1.4, 0.2],\n",
       "       [4.9, 3. , 1.4, 0.2],\n",
       "       [4.7, 3.2, 1.3, 0.2]])"
      ]
     },
     "execution_count": 5,
     "metadata": {},
     "output_type": "execute_result"
    }
   ],
   "source": [
    "X_iris[:3]"
   ]
  },
  {
   "cell_type": "code",
   "execution_count": 6,
   "id": "f5914add",
   "metadata": {},
   "outputs": [],
   "source": [
    "X_train, X_test, y_train, y_test = train_test_split(X_iris, y_iris,test_size=0.3,random_state=10)"
   ]
  },
  {
   "cell_type": "code",
   "execution_count": 7,
   "id": "ba01e3e8",
   "metadata": {},
   "outputs": [
    {
     "data": {
      "text/plain": [
       "(array([5.84285714, 3.08571429, 3.72380952, 1.18285714]),\n",
       " array([5.84444444, 2.99111111, 3.83777778, 1.23777778]))"
      ]
     },
     "execution_count": 7,
     "metadata": {},
     "output_type": "execute_result"
    }
   ],
   "source": [
    "X_train.mean(axis=0), X_test.mean(axis=0)"
   ]
  },
  {
   "cell_type": "code",
   "execution_count": 8,
   "id": "c37a889d",
   "metadata": {},
   "outputs": [
    {
     "data": {
      "text/plain": [
       "(array([0.81531264, 0.44259593, 1.77257004, 0.76810926]),\n",
       " array([0.84814977, 0.40706113, 1.72566108, 0.73825286]))"
      ]
     },
     "execution_count": 8,
     "metadata": {},
     "output_type": "execute_result"
    }
   ],
   "source": [
    "X_train.std(axis=0), X_test.std(axis=0)"
   ]
  },
  {
   "cell_type": "code",
   "execution_count": 10,
   "id": "686211a2",
   "metadata": {},
   "outputs": [],
   "source": [
    "scaler = StandardScaler()\n",
    "X_train=scaler.fit_transform(X_train)\n",
    "X_test=scaler.transform(X_test)"
   ]
  },
  {
   "cell_type": "code",
   "execution_count": 11,
   "id": "e7d703da",
   "metadata": {},
   "outputs": [
    {
     "data": {
      "text/plain": [
       "(array([-2.83159739e-15,  1.67557767e-15, -5.07530526e-17,  6.34413157e-17]),\n",
       " array([ 0.00194686, -0.21374615,  0.06429549,  0.07150107]))"
      ]
     },
     "execution_count": 11,
     "metadata": {},
     "output_type": "execute_result"
    }
   ],
   "source": [
    "X_train.mean(axis=0), X_test.mean(axis=0)"
   ]
  },
  {
   "cell_type": "code",
   "execution_count": 12,
   "id": "b39ca1be",
   "metadata": {},
   "outputs": [
    {
     "data": {
      "text/plain": [
       "(array([1., 1., 1., 1.]),\n",
       " array([1.04027551, 0.91971278, 0.97353619, 0.96113001]))"
      ]
     },
     "execution_count": 12,
     "metadata": {},
     "output_type": "execute_result"
    }
   ],
   "source": [
    "X_train.std(axis=0), X_test.std(axis=0)"
   ]
  },
  {
   "cell_type": "code",
   "execution_count": 13,
   "id": "4835d6eb",
   "metadata": {},
   "outputs": [],
   "source": [
    "class NetModel(nn.Module):\n",
    "    def __init__(self, input_dim, nclass,layer_size=[32,64],dropout=0.3):\n",
    "        super(NetModel, self).__init__()\n",
    "        self.fc1 = nn.Linear(input_dim, layer_size[0])\n",
    "        self.fc2 = nn.Linear(layer_size[0], layer_size[1])\n",
    "        self.fc3 = nn.Linear(layer_size[1], nclass)\n",
    "        self.dropout1 = nn.Dropout(dropout)\n",
    "        self.dropout2 = nn.Dropout(dropout)\n",
    "        self.relu1 = nn.ReLU()\n",
    "        self.relu2 = nn.ReLU()\n",
    "        self.softmax = nn.Softmax(dim=1)\n",
    "\n",
    "    def forward(self, X):\n",
    "        X = self.dropout1(self.relu1(self.fc1(X)))\n",
    "        X = self.dropout2(self.relu2(self.fc2(X)))\n",
    "        X = self.softmax(self.fc3(X))\n",
    "        return X"
   ]
  },
  {
   "cell_type": "code",
   "execution_count": 14,
   "id": "a7e78639",
   "metadata": {},
   "outputs": [],
   "source": [
    "class Dataset(torch.utils.data.Dataset):\n",
    "    \n",
    "    def __init__(self, X, y):\n",
    "        self.X = torch.FloatTensor(X) \n",
    "        self.y = torch.LongTensor(y)\n",
    "    \n",
    "    def __getitem__(self, idx):\n",
    "        return self.X[idx], self.y[idx]\n",
    "    \n",
    "    def __len__(self):\n",
    "        return len(self.y)"
   ]
  },
  {
   "cell_type": "code",
   "execution_count": 15,
   "id": "da51983a",
   "metadata": {},
   "outputs": [],
   "source": [
    "batch_size = 32\n",
    "\n",
    "train_d = Dataset(X_train, y_train)\n",
    "test_d = Dataset(X_test, y_test)\n",
    "\n",
    "train_dl = DataLoader(train_d, batch_size=batch_size, shuffle=True)\n",
    "test_dl = DataLoader(test_d, batch_size=batch_size, shuffle=False)\n",
    "\n",
    "n_train=X_train.shape[0]\n",
    "n_test=X_test.shape[0]"
   ]
  },
  {
   "cell_type": "code",
   "execution_count": 63,
   "id": "2a88c853",
   "metadata": {},
   "outputs": [
    {
     "data": {
      "text/plain": [
       "[tensor([[-0.7885,  0.7101, -1.3110, -1.2796],\n",
       "         [-0.9111,  0.4842, -1.1417, -0.8890],\n",
       "         [ 0.9287, -0.1937,  0.3815,  0.2827],\n",
       "         [ 0.1927, -2.0012,  0.7200,  0.4129],\n",
       "         [-1.2791, -0.1937, -1.3110, -1.1494],\n",
       "         [-1.2791, -0.1937, -1.3110, -1.4098],\n",
       "         [-1.0338, -0.1937, -1.1982, -1.2796],\n",
       "         [-1.1564,  1.1620, -1.3110, -1.4098],\n",
       "         [ 0.6833,  0.2582,  0.8892,  1.4544],\n",
       "         [ 1.0513, -0.1937,  0.7200,  0.6733],\n",
       "         [-0.9111, -1.3234, -0.4083, -0.1079],\n",
       "         [-0.0526,  2.0657, -1.4238, -1.2796],\n",
       "         [-1.8924, -0.1937, -1.4802, -1.4098],\n",
       "         [-1.0338, -1.7752, -0.2391, -0.2381],\n",
       "         [ 0.8060, -0.6455,  0.4943,  0.4129],\n",
       "         [-0.7885,  2.2917, -1.2546, -1.4098],\n",
       "         [ 1.0513, -0.1937,  0.8328,  1.4544],\n",
       "         [ 2.1552, -0.1937,  1.6226,  1.1940],\n",
       "         [-1.2791,  0.0323, -1.1982, -1.2796],\n",
       "         [-0.0526, -0.8715,  0.7764,  0.9336],\n",
       "         [ 0.8060,  0.2582,  0.7764,  1.0638],\n",
       "         [ 0.8060, -0.1937,  1.0020,  0.8035],\n",
       "         [ 0.3154, -0.4196,  0.5507,  0.2827],\n",
       "         [-0.2979, -0.8715,  0.2686,  0.1525],\n",
       "         [-0.5432,  1.8398, -1.3674, -1.0192],\n",
       "         [ 1.6646,  1.1620,  1.3405,  1.7148],\n",
       "         [ 0.0701, -0.1937,  0.7764,  0.8035],\n",
       "         [-0.2979, -0.4196, -0.0698,  0.1525],\n",
       "         [-0.2979, -1.3234,  0.0994, -0.1079],\n",
       "         [-0.0526, -0.8715,  0.0994,  0.0223],\n",
       "         [-0.9111,  0.9360, -1.3110, -1.2796],\n",
       "         [ 1.0513,  0.0323,  1.0585,  1.5846]]),\n",
       " tensor([0, 0, 1, 2, 0, 0, 0, 0, 2, 1, 1, 0, 0, 1, 1, 0, 2, 2, 0, 2, 2, 2, 1, 1,\n",
       "         0, 2, 2, 1, 1, 1, 0, 2])]"
      ]
     },
     "execution_count": 63,
     "metadata": {},
     "output_type": "execute_result"
    }
   ],
   "source": [
    "next(iter(train_dl))"
   ]
  },
  {
   "cell_type": "code",
   "execution_count": 16,
   "id": "ef19871c",
   "metadata": {},
   "outputs": [
    {
     "data": {
      "text/plain": [
       "105"
      ]
     },
     "execution_count": 16,
     "metadata": {},
     "output_type": "execute_result"
    }
   ],
   "source": [
    "train_d.__len__()"
   ]
  },
  {
   "cell_type": "code",
   "execution_count": 17,
   "id": "6c345eb9",
   "metadata": {},
   "outputs": [
    {
     "data": {
      "text/plain": [
       "105"
      ]
     },
     "execution_count": 17,
     "metadata": {},
     "output_type": "execute_result"
    }
   ],
   "source": [
    "len(train_d)"
   ]
  },
  {
   "cell_type": "code",
   "execution_count": 18,
   "id": "9f8b180b",
   "metadata": {},
   "outputs": [
    {
     "data": {
      "text/plain": [
       "(105, 4)"
      ]
     },
     "execution_count": 18,
     "metadata": {},
     "output_type": "execute_result"
    }
   ],
   "source": [
    "X_train.shape"
   ]
  },
  {
   "cell_type": "code",
   "execution_count": 19,
   "id": "3d660f0b",
   "metadata": {},
   "outputs": [
    {
     "data": {
      "text/plain": [
       "4"
      ]
     },
     "execution_count": 19,
     "metadata": {},
     "output_type": "execute_result"
    }
   ],
   "source": [
    "len(train_dl)"
   ]
  },
  {
   "cell_type": "code",
   "execution_count": 20,
   "id": "7f61d76a",
   "metadata": {},
   "outputs": [],
   "source": [
    "model=NetModel(input_dim=4, nclass=3,layer_size=[32,64], dropout=0.1).to(device)\n",
    "criterion = nn.CrossEntropyLoss()\n",
    "optimizer = torch.optim.Adam(model.parameters(), lr=0.005)"
   ]
  },
  {
   "cell_type": "code",
   "execution_count": 21,
   "id": "4d769ecd",
   "metadata": {},
   "outputs": [
    {
     "name": "stdout",
     "output_type": "stream",
     "text": [
      "NetModel(\n",
      "  (fc1): Linear(in_features=4, out_features=32, bias=True)\n",
      "  (fc2): Linear(in_features=32, out_features=64, bias=True)\n",
      "  (fc3): Linear(in_features=64, out_features=3, bias=True)\n",
      "  (dropout1): Dropout(p=0.1, inplace=False)\n",
      "  (dropout2): Dropout(p=0.1, inplace=False)\n",
      "  (relu1): ReLU()\n",
      "  (relu2): ReLU()\n",
      "  (softmax): Softmax(dim=1)\n",
      ")\n"
     ]
    }
   ],
   "source": [
    "print(model)"
   ]
  },
  {
   "cell_type": "code",
   "execution_count": 22,
   "id": "5afe039f",
   "metadata": {},
   "outputs": [],
   "source": [
    "loss_train_list=[]\n",
    "loss_val_list=[]\n",
    "acc_train_list=[]\n",
    "acc_val_list=[]"
   ]
  },
  {
   "cell_type": "code",
   "execution_count": 23,
   "id": "4df1f671",
   "metadata": {
    "scrolled": false
   },
   "outputs": [
    {
     "name": "stderr",
     "output_type": "stream",
     "text": [
      "100%|████████████████████████████████████████████| 4/4 [00:00<00:00, 143.70it/s]\n"
     ]
    },
    {
     "name": "stdout",
     "output_type": "stream",
     "text": [
      "Epochs: 1 | Train Loss:  0.040 | Train Accuracy:  0.524 | Val Loss:  0.044| Val Accuracy:  0.756\n"
     ]
    },
    {
     "name": "stderr",
     "output_type": "stream",
     "text": [
      "100%|████████████████████████████████████████████| 4/4 [00:00<00:00, 870.14it/s]\n"
     ]
    },
    {
     "name": "stdout",
     "output_type": "stream",
     "text": [
      "Epochs: 2 | Train Loss:  0.037 | Train Accuracy:  0.819 | Val Loss:  0.039| Val Accuracy:  0.667\n"
     ]
    },
    {
     "name": "stderr",
     "output_type": "stream",
     "text": [
      "100%|████████████████████████████████████████████| 4/4 [00:00<00:00, 737.04it/s]\n"
     ]
    },
    {
     "name": "stdout",
     "output_type": "stream",
     "text": [
      "Epochs: 3 | Train Loss:  0.033 | Train Accuracy:  0.762 | Val Loss:  0.035| Val Accuracy:  0.711\n"
     ]
    },
    {
     "name": "stderr",
     "output_type": "stream",
     "text": [
      "100%|████████████████████████████████████████████| 4/4 [00:00<00:00, 971.58it/s]\n"
     ]
    },
    {
     "name": "stdout",
     "output_type": "stream",
     "text": [
      "Epochs: 4 | Train Loss:  0.031 | Train Accuracy:  0.771 | Val Loss:  0.033| Val Accuracy:  0.733\n"
     ]
    },
    {
     "name": "stderr",
     "output_type": "stream",
     "text": [
      "100%|████████████████████████████████████████████| 4/4 [00:00<00:00, 762.50it/s]\n"
     ]
    },
    {
     "name": "stdout",
     "output_type": "stream",
     "text": [
      "Epochs: 5 | Train Loss:  0.028 | Train Accuracy:  0.838 | Val Loss:  0.032| Val Accuracy:  0.844\n"
     ]
    },
    {
     "name": "stderr",
     "output_type": "stream",
     "text": [
      "100%|████████████████████████████████████████████| 4/4 [00:00<00:00, 779.90it/s]\n"
     ]
    },
    {
     "name": "stdout",
     "output_type": "stream",
     "text": [
      "Epochs: 6 | Train Loss:  0.026 | Train Accuracy:  0.876 | Val Loss:  0.030| Val Accuracy:  0.956\n"
     ]
    },
    {
     "name": "stderr",
     "output_type": "stream",
     "text": [
      "100%|████████████████████████████████████████████| 4/4 [00:00<00:00, 969.39it/s]\n"
     ]
    },
    {
     "name": "stdout",
     "output_type": "stream",
     "text": [
      "Epochs: 7 | Train Loss:  0.026 | Train Accuracy:  0.933 | Val Loss:  0.030| Val Accuracy:  0.956\n"
     ]
    },
    {
     "name": "stderr",
     "output_type": "stream",
     "text": [
      "100%|████████████████████████████████████████████| 4/4 [00:00<00:00, 823.42it/s]\n"
     ]
    },
    {
     "name": "stdout",
     "output_type": "stream",
     "text": [
      "Epochs: 8 | Train Loss:  0.025 | Train Accuracy:  0.943 | Val Loss:  0.030| Val Accuracy:  0.933\n"
     ]
    },
    {
     "name": "stderr",
     "output_type": "stream",
     "text": [
      "100%|████████████████████████████████████████████| 4/4 [00:00<00:00, 697.60it/s]\n"
     ]
    },
    {
     "name": "stdout",
     "output_type": "stream",
     "text": [
      "Epochs: 9 | Train Loss:  0.025 | Train Accuracy:  0.943 | Val Loss:  0.029| Val Accuracy:  0.933\n"
     ]
    },
    {
     "name": "stderr",
     "output_type": "stream",
     "text": [
      "100%|████████████████████████████████████████████| 4/4 [00:00<00:00, 898.43it/s]\n"
     ]
    },
    {
     "name": "stdout",
     "output_type": "stream",
     "text": [
      "Epochs: 10 | Train Loss:  0.024 | Train Accuracy:  0.933 | Val Loss:  0.029| Val Accuracy:  0.911\n"
     ]
    },
    {
     "name": "stderr",
     "output_type": "stream",
     "text": [
      "100%|████████████████████████████████████████████| 4/4 [00:00<00:00, 821.85it/s]\n"
     ]
    },
    {
     "name": "stdout",
     "output_type": "stream",
     "text": [
      "Epochs: 11 | Train Loss:  0.024 | Train Accuracy:  0.952 | Val Loss:  0.029| Val Accuracy:  0.911\n"
     ]
    },
    {
     "name": "stderr",
     "output_type": "stream",
     "text": [
      "100%|████████████████████████████████████████████| 4/4 [00:00<00:00, 866.91it/s]\n"
     ]
    },
    {
     "name": "stdout",
     "output_type": "stream",
     "text": [
      "Epochs: 12 | Train Loss:  0.023 | Train Accuracy:  0.952 | Val Loss:  0.029| Val Accuracy:  0.911\n"
     ]
    },
    {
     "name": "stderr",
     "output_type": "stream",
     "text": [
      "100%|████████████████████████████████████████████| 4/4 [00:00<00:00, 791.90it/s]\n"
     ]
    },
    {
     "name": "stdout",
     "output_type": "stream",
     "text": [
      "Epochs: 13 | Train Loss:  0.023 | Train Accuracy:  0.952 | Val Loss:  0.028| Val Accuracy:  0.956\n"
     ]
    },
    {
     "name": "stderr",
     "output_type": "stream",
     "text": [
      "100%|████████████████████████████████████████████| 4/4 [00:00<00:00, 827.16it/s]\n"
     ]
    },
    {
     "name": "stdout",
     "output_type": "stream",
     "text": [
      "Epochs: 14 | Train Loss:  0.023 | Train Accuracy:  0.952 | Val Loss:  0.028| Val Accuracy:  0.956\n"
     ]
    },
    {
     "name": "stderr",
     "output_type": "stream",
     "text": [
      "100%|████████████████████████████████████████████| 4/4 [00:00<00:00, 886.14it/s]"
     ]
    },
    {
     "name": "stdout",
     "output_type": "stream",
     "text": [
      "Epochs: 15 | Train Loss:  0.023 | Train Accuracy:  0.952 | Val Loss:  0.028| Val Accuracy:  0.956\n"
     ]
    },
    {
     "name": "stderr",
     "output_type": "stream",
     "text": [
      "\n"
     ]
    }
   ],
   "source": [
    "epochs=15\n",
    "    \n",
    "for epoch in range(epochs):\n",
    "\n",
    "    acc_train = 0\n",
    "    loss_train = 0\n",
    "\n",
    "    for X,y in tqdm(train_dl):\n",
    "\n",
    "        X = X.to(device)\n",
    "        y=y.to(device)\n",
    "                \n",
    "        output = model(X)\n",
    "                \n",
    "        loss = criterion(output, y)\n",
    "        loss_train += loss.item()\n",
    "                \n",
    "        acc = (output.argmax(dim=1) == y).sum().item()\n",
    "        acc_train += acc\n",
    "\n",
    "        model.zero_grad()\n",
    "        loss.backward()\n",
    "        optimizer.step()\n",
    "            \n",
    "        acc_val = 0\n",
    "        loss_val = 0\n",
    "        model.eval()\n",
    "        with torch.no_grad():\n",
    "            for X,y in test_dl:\n",
    "                X = X.to(device)\n",
    "                y=y.to(device)\n",
    "                \n",
    "                output = model(X)\n",
    "                \n",
    "                loss = criterion(output, y)\n",
    "                loss_val += loss.item()\n",
    "                \n",
    "                acc = (output.argmax(dim=1) == y).sum().item()\n",
    "                acc_val += acc\n",
    "            \n",
    "    loss_train=loss_train/n_train\n",
    "    loss_val=loss_val/n_test\n",
    "    acc_train=acc_train/n_train\n",
    "    acc_val=acc_val/n_test\n",
    "    loss_train_list.append(loss_train)\n",
    "    loss_val_list.append(loss_val)\n",
    "    acc_train_list.append(acc_train)\n",
    "    acc_val_list.append(acc_val)\n",
    "    print(f'Epochs: {epoch + 1} | Train Loss: {loss_train: .3f} \\\n",
    "| Train Accuracy: {acc_train: .3f} | \\\n",
    "Val Loss: {loss_val: .3f}\\\n",
    "| Val Accuracy: {acc_val: .3f}')"
   ]
  },
  {
   "cell_type": "code",
   "execution_count": 24,
   "id": "63ec8417",
   "metadata": {},
   "outputs": [
    {
     "data": {
      "image/png": "[encoded data removed]",
      "text/plain": [
       "<Figure size 504x360 with 1 Axes>"
      ]
     },
     "metadata": {
      "needs_background": "light"
     },
     "output_type": "display_data"
    }
   ],
   "source": [
    "plt.figure(figsize=(7, 5))\n",
    "plt.plot(np.arange(len(loss_train_list)), loss_train_list, label = 'loss_train')\n",
    "plt.plot(np.arange(len(loss_val_list)), loss_val_list, label = 'loss_val')\n",
    "plt.legend(loc='upper right')\n",
    "plt.show()"
   ]
  },
  {
   "cell_type": "code",
   "execution_count": null,
   "id": "eafc1747",
   "metadata": {},
   "outputs": [],
   "source": []
  }
 ],
 "metadata": {
  "kernelspec": {
   "display_name": "Python 3 (ipykernel)",
   "language": "python",
   "name": "python3"
  },
  "language_info": {
   "codemirror_mode": {
    "name": "ipython",
    "version": 3
   },
   "file_extension": ".py",
   "mimetype": "text/x-python",
   "name": "python",
   "nbconvert_exporter": "python",
   "pygments_lexer": "ipython3",
   "version": "3.9.13"
  }
 },
 "nbformat": 4,
 "nbformat_minor": 5
}
