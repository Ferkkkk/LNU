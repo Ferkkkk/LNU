{
 "cells": [
  {
   "cell_type": "markdown",
   "id": "e9d36aae",
   "metadata": {},
   "source": [
    "Methods of Machine Learning and Intellectual Analysis of Data (Learning course) \\\n",
    "Bohdan Pavlyshenko (https://www.linkedin.com/in/bpavlyshenko/) \\\n",
    "Youtube video: https://www.youtube.com/watch?v=6OHAAysqoEU&list=PLMQt7tnruMvF1jetHNUKjMtHKSp78H2bb&index=9"
   ]
  },
  {
   "cell_type": "markdown",
   "id": "48cd8c31",
   "metadata": {},
   "source": [
    "# Linear Regression (Rossmann Store Sales)"
   ]
  },
  {
   "cell_type": "markdown",
   "id": "cdb30f5e",
   "metadata": {},
   "source": [
    "Used resource:\\\n",
    "https://www.kaggle.com/c/rossmann-store-sales"
   ]
  },
  {
   "cell_type": "code",
   "execution_count": 1,
   "id": "5180b41c",
   "metadata": {},
   "outputs": [],
   "source": [
    "import pandas as pd\n",
    "import numpy as np\n",
    "import random\n",
    "from sklearn.preprocessing import StandardScaler\n",
    "from sklearn.preprocessing import LabelBinarizer\n",
    "from sklearn.model_selection import train_test_split\n",
    "from sklearn.linear_model import LassoCV,Lasso, LinearRegression\n",
    "from sklearn.impute import SimpleImputer\n",
    "from sklearn.preprocessing import OneHotEncoder\n",
    "from sklearn.metrics import mean_squared_error\n",
    "import matplotlib.pyplot as plt\n",
    "import seaborn as sns\n",
    "sns.set_style(\"whitegrid\")\n",
    "import warnings\n",
    "warnings.filterwarnings('ignore')\n",
    "pd.set_option('display.max_columns', None)"
   ]
  },
  {
   "cell_type": "code",
   "execution_count": 2,
   "id": "b1a9adfe",
   "metadata": {},
   "outputs": [],
   "source": [
    "train_df=pd.read_csv('data/rossm_train_df.csv')\n",
    "test_df=pd.read_csv('data/rossm_test_df.csv')\n",
    "train_df.Date=pd.to_datetime(train_df.Date)\n",
    "test_df.Date=pd.to_datetime(test_df.Date)"
   ]
  },
  {
   "cell_type": "code",
   "execution_count": 3,
   "id": "e96a4fa5",
   "metadata": {},
   "outputs": [],
   "source": [
    "numerical_features = [ 'Open','Promo','SchoolHoliday', 'logMonthSales', 'CompetitionDistance']\n",
    "categorical_features = ['weekday', 'month']\n",
    "target = 'logSales'"
   ]
  },
  {
   "cell_type": "code",
   "execution_count": 4,
   "id": "6810d5ab",
   "metadata": {},
   "outputs": [
    {
     "data": {
      "text/html": [
       "<div>\n",
       "<style scoped>\n",
       "    .dataframe tbody tr th:only-of-type {\n",
       "        vertical-align: middle;\n",
       "    }\n",
       "\n",
       "    .dataframe tbody tr th {\n",
       "        vertical-align: top;\n",
       "    }\n",
       "\n",
       "    .dataframe thead th {\n",
       "        text-align: right;\n",
       "    }\n",
       "</style>\n",
       "<table border=\"1\" class=\"dataframe\">\n",
       "  <thead>\n",
       "    <tr style=\"text-align: right;\">\n",
       "      <th></th>\n",
       "      <th>Store</th>\n",
       "      <th>Date</th>\n",
       "      <th>Sales</th>\n",
       "      <th>Customers</th>\n",
       "      <th>Open</th>\n",
       "      <th>Promo</th>\n",
       "      <th>StateHoliday</th>\n",
       "      <th>SchoolHoliday</th>\n",
       "      <th>StoreType</th>\n",
       "      <th>Assortment</th>\n",
       "      <th>CompetitionDistance</th>\n",
       "      <th>weekday</th>\n",
       "      <th>monthday</th>\n",
       "      <th>month</th>\n",
       "      <th>year</th>\n",
       "      <th>logSales</th>\n",
       "      <th>monthSales</th>\n",
       "      <th>logMonthSales</th>\n",
       "    </tr>\n",
       "  </thead>\n",
       "  <tbody>\n",
       "    <tr>\n",
       "      <th>0</th>\n",
       "      <td>1</td>\n",
       "      <td>2014-12-31</td>\n",
       "      <td>2605</td>\n",
       "      <td>327</td>\n",
       "      <td>1.0</td>\n",
       "      <td>0.0</td>\n",
       "      <td>0</td>\n",
       "      <td>1.0</td>\n",
       "      <td>c</td>\n",
       "      <td>a</td>\n",
       "      <td>1270.0</td>\n",
       "      <td>2</td>\n",
       "      <td>31</td>\n",
       "      <td>12</td>\n",
       "      <td>2014</td>\n",
       "      <td>7.865572</td>\n",
       "      <td>119898.516129</td>\n",
       "      <td>11.694409</td>\n",
       "    </tr>\n",
       "    <tr>\n",
       "      <th>1</th>\n",
       "      <td>23</td>\n",
       "      <td>2014-12-31</td>\n",
       "      <td>3489</td>\n",
       "      <td>290</td>\n",
       "      <td>1.0</td>\n",
       "      <td>0.0</td>\n",
       "      <td>0</td>\n",
       "      <td>1.0</td>\n",
       "      <td>d</td>\n",
       "      <td>a</td>\n",
       "      <td>4060.0</td>\n",
       "      <td>2</td>\n",
       "      <td>31</td>\n",
       "      <td>12</td>\n",
       "      <td>2014</td>\n",
       "      <td>8.157657</td>\n",
       "      <td>138719.322581</td>\n",
       "      <td>11.840215</td>\n",
       "    </tr>\n",
       "    <tr>\n",
       "      <th>2</th>\n",
       "      <td>27</td>\n",
       "      <td>2014-12-31</td>\n",
       "      <td>5385</td>\n",
       "      <td>599</td>\n",
       "      <td>1.0</td>\n",
       "      <td>0.0</td>\n",
       "      <td>0</td>\n",
       "      <td>1.0</td>\n",
       "      <td>a</td>\n",
       "      <td>a</td>\n",
       "      <td>60.0</td>\n",
       "      <td>2</td>\n",
       "      <td>31</td>\n",
       "      <td>12</td>\n",
       "      <td>2014</td>\n",
       "      <td>8.591558</td>\n",
       "      <td>238187.387097</td>\n",
       "      <td>12.380817</td>\n",
       "    </tr>\n",
       "    <tr>\n",
       "      <th>3</th>\n",
       "      <td>38</td>\n",
       "      <td>2014-12-31</td>\n",
       "      <td>3534</td>\n",
       "      <td>340</td>\n",
       "      <td>1.0</td>\n",
       "      <td>0.0</td>\n",
       "      <td>0</td>\n",
       "      <td>1.0</td>\n",
       "      <td>d</td>\n",
       "      <td>a</td>\n",
       "      <td>1090.0</td>\n",
       "      <td>2</td>\n",
       "      <td>31</td>\n",
       "      <td>12</td>\n",
       "      <td>2014</td>\n",
       "      <td>8.170469</td>\n",
       "      <td>150890.870968</td>\n",
       "      <td>11.924319</td>\n",
       "    </tr>\n",
       "    <tr>\n",
       "      <th>4</th>\n",
       "      <td>42</td>\n",
       "      <td>2014-12-31</td>\n",
       "      <td>7395</td>\n",
       "      <td>780</td>\n",
       "      <td>1.0</td>\n",
       "      <td>0.0</td>\n",
       "      <td>0</td>\n",
       "      <td>1.0</td>\n",
       "      <td>a</td>\n",
       "      <td>c</td>\n",
       "      <td>290.0</td>\n",
       "      <td>2</td>\n",
       "      <td>31</td>\n",
       "      <td>12</td>\n",
       "      <td>2014</td>\n",
       "      <td>8.908695</td>\n",
       "      <td>255766.709677</td>\n",
       "      <td>12.452025</td>\n",
       "    </tr>\n",
       "  </tbody>\n",
       "</table>\n",
       "</div>"
      ],
      "text/plain": [
       "   Store       Date  Sales  Customers  Open  Promo StateHoliday  \\\n",
       "0      1 2014-12-31   2605        327   1.0    0.0            0   \n",
       "1     23 2014-12-31   3489        290   1.0    0.0            0   \n",
       "2     27 2014-12-31   5385        599   1.0    0.0            0   \n",
       "3     38 2014-12-31   3534        340   1.0    0.0            0   \n",
       "4     42 2014-12-31   7395        780   1.0    0.0            0   \n",
       "\n",
       "   SchoolHoliday StoreType Assortment  CompetitionDistance  weekday  monthday  \\\n",
       "0            1.0         c          a               1270.0        2        31   \n",
       "1            1.0         d          a               4060.0        2        31   \n",
       "2            1.0         a          a                 60.0        2        31   \n",
       "3            1.0         d          a               1090.0        2        31   \n",
       "4            1.0         a          c                290.0        2        31   \n",
       "\n",
       "   month  year  logSales     monthSales  logMonthSales  \n",
       "0     12  2014  7.865572  119898.516129      11.694409  \n",
       "1     12  2014  8.157657  138719.322581      11.840215  \n",
       "2     12  2014  8.591558  238187.387097      12.380817  \n",
       "3     12  2014  8.170469  150890.870968      11.924319  \n",
       "4     12  2014  8.908695  255766.709677      12.452025  "
      ]
     },
     "execution_count": 4,
     "metadata": {},
     "output_type": "execute_result"
    }
   ],
   "source": [
    "train_df.head()"
   ]
  },
  {
   "cell_type": "code",
   "execution_count": 5,
   "id": "8e587639",
   "metadata": {},
   "outputs": [],
   "source": [
    "enc = OneHotEncoder(handle_unknown='ignore', sparse=False)\n",
    "train_enc=enc.fit_transform(train_df[categorical_features])\n",
    "test_enc=enc.transform(test_df[categorical_features])"
   ]
  },
  {
   "cell_type": "code",
   "execution_count": 6,
   "id": "3d75ac8e",
   "metadata": {},
   "outputs": [
    {
     "data": {
      "text/plain": [
       "array([[0., 0., 1., 0., 0., 0., 0., 0., 0., 0., 0., 0., 0., 0., 0., 0.,\n",
       "        0., 0., 1.],\n",
       "       [0., 0., 1., 0., 0., 0., 0., 0., 0., 0., 0., 0., 0., 0., 0., 0.,\n",
       "        0., 0., 1.],\n",
       "       [0., 0., 1., 0., 0., 0., 0., 0., 0., 0., 0., 0., 0., 0., 0., 0.,\n",
       "        0., 0., 1.],\n",
       "       [0., 0., 1., 0., 0., 0., 0., 0., 0., 0., 0., 0., 0., 0., 0., 0.,\n",
       "        0., 0., 1.],\n",
       "       [0., 0., 1., 0., 0., 0., 0., 0., 0., 0., 0., 0., 0., 0., 0., 0.,\n",
       "        0., 0., 1.]])"
      ]
     },
     "execution_count": 6,
     "metadata": {},
     "output_type": "execute_result"
    }
   ],
   "source": [
    "train_enc[:5]"
   ]
  },
  {
   "cell_type": "code",
   "execution_count": 7,
   "id": "fe711e4b",
   "metadata": {},
   "outputs": [
    {
     "data": {
      "text/plain": [
       "array(['weekday_0', 'weekday_1', 'weekday_2', 'weekday_3', 'weekday_4',\n",
       "       'weekday_5', 'weekday_6', 'month_1', 'month_2', 'month_3',\n",
       "       'month_4', 'month_5', 'month_6', 'month_7', 'month_8', 'month_9',\n",
       "       'month_10', 'month_11', 'month_12'], dtype=object)"
      ]
     },
     "execution_count": 7,
     "metadata": {},
     "output_type": "execute_result"
    }
   ],
   "source": [
    "categorical_feat_enc=enc.get_feature_names_out(categorical_features)\n",
    "categorical_feat_enc"
   ]
  },
  {
   "cell_type": "code",
   "execution_count": 8,
   "id": "9f10a1ee",
   "metadata": {},
   "outputs": [],
   "source": [
    "train_enc_df=pd.DataFrame(train_enc,columns=categorical_feat_enc)\n",
    "test_enc_df=pd.DataFrame(test_enc,columns=categorical_feat_enc)\n",
    "X_train_df=pd.concat([train_df[numerical_features], train_enc_df], axis=1)\n",
    "X_test_df=pd.concat([test_df[numerical_features], test_enc_df], axis=1, ignore_index=True)"
   ]
  },
  {
   "cell_type": "code",
   "execution_count": 9,
   "id": "78dc41a9",
   "metadata": {},
   "outputs": [],
   "source": [
    "features=numerical_features+list(categorical_feat_enc)"
   ]
  },
  {
   "cell_type": "code",
   "execution_count": 10,
   "id": "0a896af3",
   "metadata": {},
   "outputs": [],
   "source": [
    "X_train = X_train_df.values\n",
    "X_test = X_test_df.values\n",
    "y_train = train_df[target].values\n",
    "y_test = test_df[target].values"
   ]
  },
  {
   "cell_type": "code",
   "execution_count": 11,
   "id": "de93ea02",
   "metadata": {},
   "outputs": [
    {
     "data": {
      "text/plain": [
       "(73000, 24)"
      ]
     },
     "execution_count": 11,
     "metadata": {},
     "output_type": "execute_result"
    }
   ],
   "source": [
    "X_train.shape"
   ]
  },
  {
   "cell_type": "code",
   "execution_count": 12,
   "id": "ed1cd15d",
   "metadata": {},
   "outputs": [
    {
     "name": "stdout",
     "output_type": "stream",
     "text": [
      "Linear Regression - RMSE train: 0.229, RMSE test: 0.217\n"
     ]
    }
   ],
   "source": [
    "regr=LinearRegression()\n",
    "_=regr.fit(X_train,y_train)\n",
    "train_df['pred_lr']=regr.predict(X_train)\n",
    "test_df['pred_lr']=regr.predict(X_test)\n",
    "train_rmse_lr=np.round(mean_squared_error(train_df[target], train_df['pred_lr'], squared=False),3)\n",
    "test_rmse_lr=np.round(mean_squared_error(test_df[target], test_df['pred_lr'], squared=False),3)\n",
    "print(f'Linear Regression - RMSE train: {train_rmse_lr}, RMSE test: {test_rmse_lr}')"
   ]
  },
  {
   "cell_type": "code",
   "execution_count": 13,
   "id": "2300155e",
   "metadata": {},
   "outputs": [],
   "source": [
    "scaler = StandardScaler()\n",
    "X_train_st=scaler.fit_transform(X_train)\n",
    "X_test_st=scaler.transform(X_test)"
   ]
  },
  {
   "cell_type": "code",
   "execution_count": 36,
   "id": "b1fc29e6",
   "metadata": {},
   "outputs": [
    {
     "name": "stdout",
     "output_type": "stream",
     "text": [
      "LASSO Regression - RMSE train: 0.232, RMSE test: 0.221\n"
     ]
    }
   ],
   "source": [
    "regr=Lasso(alpha=0.01)\n",
    "_=regr.fit(X_train_st,y_train)\n",
    "train_df['pred_lasso']=regr.predict(X_train_st)\n",
    "test_df['pred_lasso']=regr.predict(X_test_st)\n",
    "train_rmse_lasso=np.round(mean_squared_error(train_df[target], train_df['pred_lasso'], squared=False),3)\n",
    "test_rmse_lasso=np.round(mean_squared_error(test_df[target], test_df['pred_lasso'], squared=False),3)\n",
    "print(f'LASSO Regression - RMSE train: {train_rmse_lasso}, RMSE test: {test_rmse_lasso}')"
   ]
  },
  {
   "cell_type": "code",
   "execution_count": 37,
   "id": "6fb85262",
   "metadata": {},
   "outputs": [
    {
     "data": {
      "image/png": "[encoded data removed]",
      "text/plain": [
       "<Figure size 504x504 with 1 Axes>"
      ]
     },
     "metadata": {
      "needs_background": "light"
     },
     "output_type": "display_data"
    }
   ],
   "source": [
    "lasso_coef=pd.DataFrame({'coef':regr.coef_},index=features)\n",
    "lasso_coef['coef_abs']=np.abs(lasso_coef['coef'])\n",
    "lasso_coef.sort_values('coef_abs',ascending=False, inplace=True)\n",
    "lasso_coef=lasso_coef[lasso_coef.coef!=0]\n",
    "_=lasso_coef.iloc[:25].coef.plot(kind='barh',figsize=(7,7))"
   ]
  },
  {
   "cell_type": "code",
   "execution_count": 32,
   "id": "2fd22c0a",
   "metadata": {},
   "outputs": [
    {
     "data": {
      "text/plain": [
       "(21, 2)"
      ]
     },
     "execution_count": 32,
     "metadata": {},
     "output_type": "execute_result"
    }
   ],
   "source": [
    "lasso_coef.shape"
   ]
  },
  {
   "cell_type": "code",
   "execution_count": 144,
   "id": "4b917d53",
   "metadata": {},
   "outputs": [
    {
     "data": {
      "text/plain": [
       "(73000, 24)"
      ]
     },
     "execution_count": 144,
     "metadata": {},
     "output_type": "execute_result"
    }
   ],
   "source": [
    "X_train_st.shape"
   ]
  },
  {
   "cell_type": "code",
   "execution_count": 38,
   "id": "73a44bf3",
   "metadata": {},
   "outputs": [
    {
     "data": {
      "text/html": [
       "<div>\n",
       "<style scoped>\n",
       "    .dataframe tbody tr th:only-of-type {\n",
       "        vertical-align: middle;\n",
       "    }\n",
       "\n",
       "    .dataframe tbody tr th {\n",
       "        vertical-align: top;\n",
       "    }\n",
       "\n",
       "    .dataframe thead th {\n",
       "        text-align: right;\n",
       "    }\n",
       "</style>\n",
       "<table border=\"1\" class=\"dataframe\">\n",
       "  <thead>\n",
       "    <tr style=\"text-align: right;\">\n",
       "      <th></th>\n",
       "      <th>coef</th>\n",
       "      <th>coef_abs</th>\n",
       "    </tr>\n",
       "  </thead>\n",
       "  <tbody>\n",
       "    <tr>\n",
       "      <th>Open</th>\n",
       "      <td>3.184437</td>\n",
       "      <td>3.184437</td>\n",
       "    </tr>\n",
       "    <tr>\n",
       "      <th>logMonthSales</th>\n",
       "      <td>0.249980</td>\n",
       "      <td>0.249980</td>\n",
       "    </tr>\n",
       "    <tr>\n",
       "      <th>Promo</th>\n",
       "      <td>0.152221</td>\n",
       "      <td>0.152221</td>\n",
       "    </tr>\n",
       "    <tr>\n",
       "      <th>weekday_0</th>\n",
       "      <td>0.043961</td>\n",
       "      <td>0.043961</td>\n",
       "    </tr>\n",
       "    <tr>\n",
       "      <th>month_12</th>\n",
       "      <td>0.040804</td>\n",
       "      <td>0.040804</td>\n",
       "    </tr>\n",
       "    <tr>\n",
       "      <th>weekday_4</th>\n",
       "      <td>0.004673</td>\n",
       "      <td>0.004673</td>\n",
       "    </tr>\n",
       "    <tr>\n",
       "      <th>weekday_5</th>\n",
       "      <td>-0.002034</td>\n",
       "      <td>0.002034</td>\n",
       "    </tr>\n",
       "    <tr>\n",
       "      <th>month_11</th>\n",
       "      <td>0.001901</td>\n",
       "      <td>0.001901</td>\n",
       "    </tr>\n",
       "    <tr>\n",
       "      <th>weekday_2</th>\n",
       "      <td>-0.001054</td>\n",
       "      <td>0.001054</td>\n",
       "    </tr>\n",
       "    <tr>\n",
       "      <th>weekday_1</th>\n",
       "      <td>0.000978</td>\n",
       "      <td>0.000978</td>\n",
       "    </tr>\n",
       "  </tbody>\n",
       "</table>\n",
       "</div>"
      ],
      "text/plain": [
       "                   coef  coef_abs\n",
       "Open           3.184437  3.184437\n",
       "logMonthSales  0.249980  0.249980\n",
       "Promo          0.152221  0.152221\n",
       "weekday_0      0.043961  0.043961\n",
       "month_12       0.040804  0.040804\n",
       "weekday_4      0.004673  0.004673\n",
       "weekday_5     -0.002034  0.002034\n",
       "month_11       0.001901  0.001901\n",
       "weekday_2     -0.001054  0.001054\n",
       "weekday_1      0.000978  0.000978"
      ]
     },
     "execution_count": 38,
     "metadata": {},
     "output_type": "execute_result"
    }
   ],
   "source": [
    "lasso_coef"
   ]
  },
  {
   "cell_type": "code",
   "execution_count": null,
   "id": "9a832185",
   "metadata": {},
   "outputs": [],
   "source": []
  }
 ],
 "metadata": {
  "kernelspec": {
   "display_name": "Python 3 (ipykernel)",
   "language": "python",
   "name": "python3"
  },
  "language_info": {
   "codemirror_mode": {
    "name": "ipython",
    "version": 3
   },
   "file_extension": ".py",
   "mimetype": "text/x-python",
   "name": "python",
   "nbconvert_exporter": "python",
   "pygments_lexer": "ipython3",
   "version": "3.9.13"
  }
 },
 "nbformat": 4,
 "nbformat_minor": 5
}
