{
  "nbformat": 4,
  "nbformat_minor": 0,
  "metadata": {
    "colab": {
      "provenance": []
    },
    "kernelspec": {
      "name": "python3",
      "display_name": "Python 3"
    },
    "language_info": {
      "name": "python"
    }
  },
  "cells": [
    {
      "cell_type": "code",
      "execution_count": 1,
      "metadata": {
        "id": "92cT9yV3R53g"
      },
      "outputs": [],
      "source": [
        "import numpy as np\n",
        "import pandas as pd\n",
        "import matplotlib.pyplot as plt\n",
        "import seaborn as sns\n",
        "from sklearn.datasets import fetch_california_housing\n",
        "from sklearn.model_selection import train_test_split\n",
        "from sklearn.linear_model import LinearRegression\n",
        "from sklearn.preprocessing import PolynomialFeatures\n",
        "from sklearn.metrics import mean_squared_error, r2_score"
      ]
    },
    {
      "cell_type": "markdown",
      "source": [
        "# 1. Завантаження готових наборів даних з Scikit-learn:"
      ],
      "metadata": {
        "id": "OQw0MgMgSCv8"
      }
    },
    {
      "cell_type": "code",
      "source": [
        "housing_data = fetch_california_housing()"
      ],
      "metadata": {
        "id": "zxrdA5BYSDsm"
      },
      "execution_count": 2,
      "outputs": []
    },
    {
      "cell_type": "markdown",
      "source": [
        "# 2. Поділ даних на тренувальну та тестову вибірки:\n"
      ],
      "metadata": {
        "id": "k5jWuU41SEGx"
      }
    },
    {
      "cell_type": "code",
      "source": [
        "X = housing_data.data\n",
        "y = housing_data.target"
      ],
      "metadata": {
        "id": "YBF7cUXfSbwn"
      },
      "execution_count": 3,
      "outputs": []
    },
    {
      "cell_type": "code",
      "source": [
        "X_train, X_test, y_train, y_test = train_test_split(X, y, test_size=0.2, random_state=42)"
      ],
      "metadata": {
        "id": "0dnqFkpzSdnv"
      },
      "execution_count": 4,
      "outputs": []
    },
    {
      "cell_type": "markdown",
      "source": [
        "# 3. Створити моделі лінійні та поліноміальні регресійні ступенем поліному від 2 до 10:"
      ],
      "metadata": {
        "id": "pwbtAlw-SG6s"
      }
    },
    {
      "cell_type": "code",
      "source": [
        "degrees = [1, 2, 3, 4, 5, 6, 7, 8, 9, 10]\n",
        "models = {}"
      ],
      "metadata": {
        "id": "zgTRLjDASMqi"
      },
      "execution_count": 5,
      "outputs": []
    },
    {
      "cell_type": "code",
      "source": [
        "for degree in degrees:\n",
        "    poly = PolynomialFeatures(degree=degree)\n",
        "    models[degree] = LinearRegression()"
      ],
      "metadata": {
        "id": "KEIHey7qS-Ca"
      },
      "execution_count": 6,
      "outputs": []
    },
    {
      "cell_type": "markdown",
      "source": [
        "# 4. Навчання та оцінка моделей:"
      ],
      "metadata": {
        "id": "VcuB-mdfSNFq"
      }
    },
    {
      "cell_type": "code",
      "source": [
        "for degree, model in models.items():\n",
        "    X_train_poly = poly.fit_transform(X_train)\n",
        "    model.fit(X_train_poly, y_train)"
      ],
      "metadata": {
        "id": "vN4nzRfXSTRP"
      },
      "execution_count": null,
      "outputs": []
    },
    {
      "cell_type": "code",
      "source": [
        "results = pd.DataFrame(columns=['degree', 'mse', 'r2'])"
      ],
      "metadata": {
        "id": "BFtayz1STgsR"
      },
      "execution_count": null,
      "outputs": []
    },
    {
      "cell_type": "code",
      "source": [
        "for degree, model in models.items():\n",
        "    X_test_poly = poly.transform(X_test)\n",
        "    y_pred = model.predict(X_test_poly)\n",
        "    mse = mean_squared_error(y_test, y_pred)\n",
        "    r2 = r2_score(y_test, y_pred)\n",
        "    results = results.append({'degree': degree, 'mse': mse, 'r2': r2}, ignore_index=True)"
      ],
      "metadata": {
        "id": "oKh74xvTTZqs"
      },
      "execution_count": null,
      "outputs": []
    },
    {
      "cell_type": "code",
      "source": [
        "print(results)"
      ],
      "metadata": {
        "id": "alJztiw4TeOK"
      },
      "execution_count": null,
      "outputs": []
    },
    {
      "cell_type": "markdown",
      "source": [
        "# 5. Візуалізація:"
      ],
      "metadata": {
        "id": "clrk8D6eSToT"
      }
    },
    {
      "cell_type": "code",
      "source": [
        "best_degree = results.loc[results['mse'].idxmin(), 'degree']\n",
        "best_model = models[best_degree]"
      ],
      "metadata": {
        "id": "bMq7ejXCTmQ3"
      },
      "execution_count": null,
      "outputs": []
    },
    {
      "cell_type": "code",
      "source": [
        "X_test_poly = poly.transform(X_test)\n",
        "y_pred_best = best_model.predict(X_test_poly)"
      ],
      "metadata": {
        "id": "0WmB57METqDr"
      },
      "execution_count": null,
      "outputs": []
    },
    {
      "cell_type": "code",
      "source": [
        "plt.scatter(y_test, y_pred_best, alpha=0.5, label='Predicted')\n",
        "plt.scatter(y_test, y_test, alpha=0.5, color='red', label='Actual')\n",
        "plt.xlabel('Actual')\n",
        "plt.ylabel('Predicted')\n",
        "plt.title('Actual vs Predicted Values')\n",
        "plt.legend()\n",
        "plt.show()"
      ],
      "metadata": {
        "id": "8xLFg_V0TsF4"
      },
      "execution_count": null,
      "outputs": []
    }
  ]
}