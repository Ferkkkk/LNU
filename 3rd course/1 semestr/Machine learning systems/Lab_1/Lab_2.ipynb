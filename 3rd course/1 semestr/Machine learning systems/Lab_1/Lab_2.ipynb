{
  "cells": [
    {
      "cell_type": "code",
      "execution_count": null,
      "metadata": {},
      "outputs": [],
      "source": [
        "!pip install pandas\n",
        "!pip install numpy\n",
        "!pip install matplotlib\n",
        "!pip install seaborn\n",
        "!pip install scikit-learn"
      ]
    },
    {
      "cell_type": "code",
      "execution_count": 1,
      "metadata": {
        "id": "92cT9yV3R53g"
      },
      "outputs": [],
      "source": [
        "import numpy as np\n",
        "import pandas as pd\n",
        "import matplotlib.pyplot as plt\n",
        "import seaborn as sns\n",
        "from sklearn.datasets import fetch_california_housing\n",
        "from sklearn.model_selection import train_test_split\n",
        "from sklearn.linear_model import LinearRegression\n",
        "from sklearn.preprocessing import PolynomialFeatures\n",
        "from sklearn.metrics import mean_squared_error, r2_score"
      ]
    },
    {
      "cell_type": "markdown",
      "metadata": {
        "id": "OQw0MgMgSCv8"
      },
      "source": [
        "# 1. Завантаження готових наборів даних з Scikit-learn:"
      ]
    },
    {
      "cell_type": "code",
      "execution_count": 2,
      "metadata": {
        "id": "zxrdA5BYSDsm"
      },
      "outputs": [],
      "source": [
        "housing_data = fetch_california_housing()"
      ]
    },
    {
      "cell_type": "markdown",
      "metadata": {
        "id": "k5jWuU41SEGx"
      },
      "source": [
        "# 2. Поділ даних на тренувальну та тестову вибірки:\n"
      ]
    },
    {
      "cell_type": "code",
      "execution_count": 3,
      "metadata": {
        "id": "YBF7cUXfSbwn"
      },
      "outputs": [],
      "source": [
        "X = housing_data.data\n",
        "y = housing_data.target"
      ]
    },
    {
      "cell_type": "code",
      "execution_count": 4,
      "metadata": {
        "id": "0dnqFkpzSdnv"
      },
      "outputs": [],
      "source": [
        "X_train, X_test, y_train, y_test = train_test_split(X, y, test_size=0.2, random_state=42)"
      ]
    },
    {
      "cell_type": "markdown",
      "metadata": {
        "id": "pwbtAlw-SG6s"
      },
      "source": [
        "# 3. Створити моделі лінійні та поліноміальні регресійні ступенем поліному від 2 до 10:"
      ]
    },
    {
      "cell_type": "code",
      "execution_count": 5,
      "metadata": {
        "id": "zgTRLjDASMqi"
      },
      "outputs": [],
      "source": [
        "degrees = [1, 2, 3, 4, 5, 6, 7, 8, 9, 10]\n",
        "models = {}"
      ]
    },
    {
      "cell_type": "code",
      "execution_count": 6,
      "metadata": {
        "id": "KEIHey7qS-Ca"
      },
      "outputs": [],
      "source": [
        "for degree in degrees:\n",
        "    poly = PolynomialFeatures(degree=degree)\n",
        "    models[degree] = LinearRegression()"
      ]
    },
    {
      "cell_type": "markdown",
      "metadata": {
        "id": "VcuB-mdfSNFq"
      },
      "source": [
        "# 4. Навчання та оцінка моделей:"
      ]
    },
    {
      "cell_type": "code",
      "execution_count": null,
      "metadata": {
        "id": "vN4nzRfXSTRP"
      },
      "outputs": [],
      "source": [
        "for degree, model in models.items():\n",
        "    X_train_poly = poly.fit_transform(X_train)\n",
        "    model.fit(X_train_poly, y_train)"
      ]
    },
    {
      "cell_type": "code",
      "execution_count": null,
      "metadata": {
        "id": "BFtayz1STgsR"
      },
      "outputs": [],
      "source": [
        "results = pd.DataFrame(columns=['degree', 'mse', 'r2'])"
      ]
    },
    {
      "cell_type": "code",
      "execution_count": null,
      "metadata": {
        "id": "oKh74xvTTZqs"
      },
      "outputs": [],
      "source": [
        "for degree, model in models.items():\n",
        "    X_test_poly = poly.transform(X_test)\n",
        "    y_pred = model.predict(X_test_poly)\n",
        "    mse = mean_squared_error(y_test, y_pred)\n",
        "    r2 = r2_score(y_test, y_pred)\n",
        "    results = results.append({'degree': degree, 'mse': mse, 'r2': r2}, ignore_index=True)"
      ]
    },
    {
      "cell_type": "code",
      "execution_count": null,
      "metadata": {
        "id": "alJztiw4TeOK"
      },
      "outputs": [],
      "source": [
        "print(results)"
      ]
    },
    {
      "cell_type": "markdown",
      "metadata": {
        "id": "clrk8D6eSToT"
      },
      "source": [
        "# 5. Візуалізація:"
      ]
    },
    {
      "cell_type": "code",
      "execution_count": null,
      "metadata": {
        "id": "bMq7ejXCTmQ3"
      },
      "outputs": [],
      "source": [
        "best_degree = results.loc[results['mse'].idxmin(), 'degree']\n",
        "best_model = models[best_degree]"
      ]
    },
    {
      "cell_type": "code",
      "execution_count": null,
      "metadata": {
        "id": "0WmB57METqDr"
      },
      "outputs": [],
      "source": [
        "X_test_poly = poly.transform(X_test)\n",
        "y_pred_best = best_model.predict(X_test_poly)"
      ]
    },
    {
      "cell_type": "code",
      "execution_count": null,
      "metadata": {
        "id": "8xLFg_V0TsF4"
      },
      "outputs": [],
      "source": [
        "plt.scatter(y_test, y_pred_best, alpha=0.5, label='Predicted')\n",
        "plt.scatter(y_test, y_test, alpha=0.5, color='red', label='Actual')\n",
        "plt.xlabel('Actual')\n",
        "plt.ylabel('Predicted')\n",
        "plt.title('Actual vs Predicted Values')\n",
        "plt.legend()\n",
        "plt.show()"
      ]
    }
  ],
  "metadata": {
    "colab": {
      "provenance": []
    },
    "kernelspec": {
      "display_name": "Python 3",
      "name": "python3"
    },
    "language_info": {
      "name": "python"
    }
  },
  "nbformat": 4,
  "nbformat_minor": 0
}
