{
 "cells": [
  {
   "cell_type": "code",
   "metadata": {
    "ExecuteTime": {
     "end_time": "2024-11-01T19:31:33.416432Z",
     "start_time": "2024-11-01T19:31:32.913601Z"
    }
   },
   "source": [
    "import torch\n",
    "from keras.models import Sequential\n",
    "from keras.layers import Dense\n",
    "import matplotlib.pyplot as plt\n",
    "import pandas as pd\n",
    "from sklearn.preprocessing import MinMaxScaler\n",
    "from sklearn.model_selection import train_test_split\n"
   ],
   "outputs": [
    {
     "ename": "ModuleNotFoundError",
     "evalue": "No module named 'matplotlib.backends.registry'",
     "output_type": "error",
     "traceback": [
      "\u001B[1;31m---------------------------------------------------------------------------\u001B[0m",
      "\u001B[1;31mModuleNotFoundError\u001B[0m                       Traceback (most recent call last)",
      "Cell \u001B[1;32mIn[9], line 4\u001B[0m\n\u001B[0;32m      2\u001B[0m \u001B[38;5;28;01mfrom\u001B[39;00m \u001B[38;5;21;01mkeras\u001B[39;00m\u001B[38;5;21;01m.\u001B[39;00m\u001B[38;5;21;01mmodels\u001B[39;00m \u001B[38;5;28;01mimport\u001B[39;00m Sequential\n\u001B[0;32m      3\u001B[0m \u001B[38;5;28;01mfrom\u001B[39;00m \u001B[38;5;21;01mkeras\u001B[39;00m\u001B[38;5;21;01m.\u001B[39;00m\u001B[38;5;21;01mlayers\u001B[39;00m \u001B[38;5;28;01mimport\u001B[39;00m Dense\n\u001B[1;32m----> 4\u001B[0m \u001B[38;5;28;01mimport\u001B[39;00m \u001B[38;5;21;01mmatplotlib\u001B[39;00m\u001B[38;5;21;01m.\u001B[39;00m\u001B[38;5;21;01mpyplot\u001B[39;00m \u001B[38;5;28;01mas\u001B[39;00m \u001B[38;5;21;01mplt\u001B[39;00m\n\u001B[0;32m      5\u001B[0m \u001B[38;5;28;01mimport\u001B[39;00m \u001B[38;5;21;01mpandas\u001B[39;00m \u001B[38;5;28;01mas\u001B[39;00m \u001B[38;5;21;01mpd\u001B[39;00m\n\u001B[0;32m      6\u001B[0m \u001B[38;5;28;01mfrom\u001B[39;00m \u001B[38;5;21;01msklearn\u001B[39;00m\u001B[38;5;21;01m.\u001B[39;00m\u001B[38;5;21;01mpreprocessing\u001B[39;00m \u001B[38;5;28;01mimport\u001B[39;00m MinMaxScaler\n",
      "File \u001B[1;32m~\\OneDrive\\Робочий стіл\\3 курс 1 семестр\\Машинне\\Lab1\\Lab1\\.venv\\Lib\\site-packages\\matplotlib\\__init__.py:159\u001B[0m\n\u001B[0;32m    155\u001B[0m \u001B[38;5;28;01mfrom\u001B[39;00m \u001B[38;5;21;01mpackaging\u001B[39;00m\u001B[38;5;21;01m.\u001B[39;00m\u001B[38;5;21;01mversion\u001B[39;00m \u001B[38;5;28;01mimport\u001B[39;00m parse \u001B[38;5;28;01mas\u001B[39;00m parse_version\n\u001B[0;32m    157\u001B[0m \u001B[38;5;66;03m# cbook must import matplotlib only within function\u001B[39;00m\n\u001B[0;32m    158\u001B[0m \u001B[38;5;66;03m# definitions, so it is safe to import from it here.\u001B[39;00m\n\u001B[1;32m--> 159\u001B[0m \u001B[38;5;28;01mfrom\u001B[39;00m \u001B[38;5;21;01m.\u001B[39;00m \u001B[38;5;28;01mimport\u001B[39;00m _api, _version, cbook, _docstring, rcsetup\n\u001B[0;32m    160\u001B[0m \u001B[38;5;28;01mfrom\u001B[39;00m \u001B[38;5;21;01mmatplotlib\u001B[39;00m\u001B[38;5;21;01m.\u001B[39;00m\u001B[38;5;21;01mcbook\u001B[39;00m \u001B[38;5;28;01mimport\u001B[39;00m sanitize_sequence\n\u001B[0;32m    161\u001B[0m \u001B[38;5;28;01mfrom\u001B[39;00m \u001B[38;5;21;01mmatplotlib\u001B[39;00m\u001B[38;5;21;01m.\u001B[39;00m\u001B[38;5;21;01m_api\u001B[39;00m \u001B[38;5;28;01mimport\u001B[39;00m MatplotlibDeprecationWarning\n",
      "File \u001B[1;32m~\\OneDrive\\Робочий стіл\\3 курс 1 семестр\\Машинне\\Lab1\\Lab1\\.venv\\Lib\\site-packages\\matplotlib\\rcsetup.py:26\u001B[0m\n\u001B[0;32m     23\u001B[0m \u001B[38;5;28;01mimport\u001B[39;00m \u001B[38;5;21;01mnumpy\u001B[39;00m \u001B[38;5;28;01mas\u001B[39;00m \u001B[38;5;21;01mnp\u001B[39;00m\n\u001B[0;32m     25\u001B[0m \u001B[38;5;28;01mfrom\u001B[39;00m \u001B[38;5;21;01mmatplotlib\u001B[39;00m \u001B[38;5;28;01mimport\u001B[39;00m _api, cbook\n\u001B[1;32m---> 26\u001B[0m \u001B[38;5;28;01mfrom\u001B[39;00m \u001B[38;5;21;01mmatplotlib\u001B[39;00m\u001B[38;5;21;01m.\u001B[39;00m\u001B[38;5;21;01mbackends\u001B[39;00m \u001B[38;5;28;01mimport\u001B[39;00m BackendFilter, backend_registry\n\u001B[0;32m     27\u001B[0m \u001B[38;5;28;01mfrom\u001B[39;00m \u001B[38;5;21;01mmatplotlib\u001B[39;00m\u001B[38;5;21;01m.\u001B[39;00m\u001B[38;5;21;01mcbook\u001B[39;00m \u001B[38;5;28;01mimport\u001B[39;00m ls_mapper\n\u001B[0;32m     28\u001B[0m \u001B[38;5;28;01mfrom\u001B[39;00m \u001B[38;5;21;01mmatplotlib\u001B[39;00m\u001B[38;5;21;01m.\u001B[39;00m\u001B[38;5;21;01mcolors\u001B[39;00m \u001B[38;5;28;01mimport\u001B[39;00m Colormap, is_color_like\n",
      "File \u001B[1;32m~\\OneDrive\\Робочий стіл\\3 курс 1 семестр\\Машинне\\Lab1\\Lab1\\.venv\\Lib\\site-packages\\matplotlib\\backends\\__init__.py:1\u001B[0m\n\u001B[1;32m----> 1\u001B[0m \u001B[38;5;28;01mfrom\u001B[39;00m \u001B[38;5;21;01m.\u001B[39;00m\u001B[38;5;21;01mregistry\u001B[39;00m \u001B[38;5;28;01mimport\u001B[39;00m BackendFilter, backend_registry  \u001B[38;5;66;03m# noqa: F401\u001B[39;00m\n\u001B[0;32m      3\u001B[0m \u001B[38;5;66;03m# NOTE: plt.switch_backend() (called at import time) will add a \"backend\"\u001B[39;00m\n\u001B[0;32m      4\u001B[0m \u001B[38;5;66;03m# attribute here for backcompat.\u001B[39;00m\n\u001B[0;32m      5\u001B[0m _QT_FORCE_QT5_BINDING \u001B[38;5;241m=\u001B[39m \u001B[38;5;28;01mFalse\u001B[39;00m\n",
      "\u001B[1;31mModuleNotFoundError\u001B[0m: No module named 'matplotlib.backends.registry'"
     ]
    }
   ],
   "execution_count": 9
  },
  {
   "cell_type": "code",
   "metadata": {
    "ExecuteTime": {
     "end_time": "2024-11-01T19:31:33.421425Z",
     "start_time": "2024-11-01T19:31:33.419431Z"
    }
   },
   "source": [
    "url = r\"C:\\Users\\Дарина\\OneDrive\\Робочий стіл\\3 курс 1 семестр\\Машинне\\machine\\household_power_consumption.csv\"\n",
    "df = pd.read_csv(url, sep=',', low_memory=False, parse_dates={'datetime': ['Date', 'Time']}, infer_datetime_format=True, na_values=['nan', '?'])\n",
    "\n",
    "\n",
    "\n",
    "df = df[['datetime', 'Voltage']].dropna()\n",
    "\n",
    "\n",
    "scaler = MinMaxScaler(feature_range=(0, 1))\n",
    "df['Voltage'] = scaler.fit_transform(df[['Voltage']])\n"
   ],
   "outputs": [],
   "execution_count": null
  },
  {
   "cell_type": "code",
   "metadata": {
    "ExecuteTime": {
     "end_time": "2024-11-01T19:31:33.424416Z",
     "start_time": "2024-11-01T19:31:33.423420Z"
    }
   },
   "source": [
    "model = Sequential()\n",
    "model.add(Dense(64, input_dim=1, activation='relu'))\n",
    "model.add(Dense(32, activation='relu'))\n",
    "model.add(Dense(1))\n",
    "\n",
    "\n",
    "model.compile(optimizer='adam', loss='mean_squared_error', metrics=['mean_absolute_error'])\n"
   ],
   "outputs": [],
   "execution_count": null
  },
  {
   "cell_type": "code",
   "metadata": {
    "ExecuteTime": {
     "end_time": "2024-11-01T19:31:33.432396Z",
     "start_time": "2024-11-01T19:31:33.429403Z"
    }
   },
   "source": [
    "X = df['Voltage'].values.reshape(-1, 1)\n",
    "y = df['Voltage'].values\n",
    "\n",
    "\n",
    "X_train, X_test, y_train, y_test = train_test_split(X, y, test_size=0.2, shuffle=False)\n",
    "\n",
    "\n",
    "\n",
    "history = model.fit(X_train, y_train, epochs=5, batch_size=32, validation_data=(X_test, y_test))\n"
   ],
   "outputs": [],
   "execution_count": null
  },
  {
   "cell_type": "code",
   "metadata": {
    "ExecuteTime": {
     "end_time": "2024-11-01T19:31:33.438380Z",
     "start_time": "2024-11-01T19:31:33.437382Z"
    }
   },
   "source": [
    "from sklearn.metrics import r2_score\n",
    "\n",
    "\n",
    "loss, mae = model.evaluate(X_test, y_test)\n",
    "y_pred = model.predict(X_test)\n",
    "\n",
    "r2 = r2_score(y_test, y_pred)\n",
    "\n",
    "print(f\"Test Loss: {loss}\")\n",
    "print(f\"Test MAE: {mae}\")\n",
    "print(f\"Test R-squared (Accuracy): {r2}\")\n"
   ],
   "outputs": [],
   "execution_count": null
  },
  {
   "cell_type": "code",
   "metadata": {
    "ExecuteTime": {
     "end_time": "2024-11-01T19:31:33.447357Z",
     "start_time": "2024-11-01T19:31:33.445362Z"
    }
   },
   "source": [
    "plt.plot(history.history['loss'], label='Train Loss')\n",
    "plt.plot(history.history['val_loss'], label='Validation Loss')\n",
    "plt.xlabel('Epochs')\n",
    "plt.ylabel('Loss')\n",
    "plt.legend()\n",
    "plt.show()\n"
   ],
   "outputs": [],
   "execution_count": null
  },
  {
   "cell_type": "code",
   "metadata": {
    "ExecuteTime": {
     "end_time": "2024-11-01T19:31:33.453341Z",
     "start_time": "2024-11-01T19:31:33.451346Z"
    }
   },
   "source": [
    "import matplotlib.dates as mdates\n",
    "\n",
    "# Denormalize the actual and predicted voltage values\n",
    "y_test_denorm = scaler.inverse_transform(y_test.reshape(-1, 1))\n",
    "y_pred_denorm = scaler.inverse_transform(y_pred)\n",
    "\n",
    "# Extract the datetime values corresponding to the test data\n",
    "time_test = df['datetime'].values[-len(X_test):]\n",
    "\n",
    "# Plot the actual vs predicted values (denormalized)\n",
    "plt.figure(figsize=(10, 6))\n",
    "plt.plot(time_test, y_test_denorm, label='Actual Voltage')\n",
    "plt.plot(time_test, y_pred_denorm, label='Predicted Voltage')\n",
    "plt.xlabel('Time')\n",
    "plt.ylabel('Voltage')\n",
    "plt.legend()\n",
    "\n",
    "# Format the x-axis to show datetime\n",
    "plt.gca().xaxis.set_major_formatter(mdates.DateFormatter('%Y-%m-%d %H:%M:%S'))\n",
    "plt.gca().xaxis.set_major_locator(mdates.HourLocator(interval=1000))  # Adjust interval as needed\n",
    "plt.gcf().autofmt_xdate()  # Rotate and format x-axis labels\n",
    "\n",
    "plt.show()\n"
   ],
   "outputs": [],
   "execution_count": null
  },
  {
   "cell_type": "code",
   "metadata": {
    "ExecuteTime": {
     "end_time": "2024-11-01T19:31:33.455336Z",
     "start_time": "2024-11-01T19:31:33.454338Z"
    }
   },
   "source": [
    "import matplotlib.dates as mdates\n",
    "\n",
    "# Select only the last 24 hours of data\n",
    "# Assuming 'datetime' is already in datetime format\n",
    "start_time = df['datetime'].max() - pd.Timedelta(days=1)  # 24 hours from the last timestamp\n",
    "df_24_hours = df[df['datetime'] >= start_time]\n",
    "\n",
    "# Rebuild X_test and y_test for the last 24 hours\n",
    "X_test_24 = df_24_hours['Voltage'].values.reshape(-1, 1)\n",
    "y_test_24 = df_24_hours['Voltage'].values\n",
    "\n",
    "# Predict based on the last 24 hours of test data\n",
    "y_pred_24 = model.predict(X_test_24)\n",
    "\n",
    "# Denormalize the actual and predicted voltage values\n",
    "y_test_24_denorm = scaler.inverse_transform(y_test_24.reshape(-1, 1))\n",
    "y_pred_24_denorm = scaler.inverse_transform(y_pred_24)\n",
    "\n",
    "# Extract the datetime values corresponding to the last 24 hours\n",
    "time_test_24 = df_24_hours['datetime'].values\n",
    "\n",
    "# Plot the actual vs predicted values (denormalized) for 24 hours\n",
    "plt.figure(figsize=(10, 6))\n",
    "plt.plot(time_test_24, y_test_24_denorm, label='Actual Voltage')\n",
    "plt.plot(time_test_24, y_pred_24_denorm, label='Predicted Voltage')\n",
    "plt.xlabel('Time')\n",
    "plt.ylabel('Voltage')\n",
    "plt.legend()\n",
    "\n",
    "# Format the x-axis to show datetime for the last 24 hours\n",
    "plt.gca().xaxis.set_major_formatter(mdates.DateFormatter('%H:%M:%S'))\n",
    "plt.gca().xaxis.set_major_locator(mdates.HourLocator(interval=1))  # 1-hour intervals\n",
    "plt.gcf().autofmt_xdate()  # Rotate and format x-axis labels\n",
    "\n",
    "plt.show()\n"
   ],
   "outputs": [],
   "execution_count": null
  }
 ],
 "metadata": {
  "kernelspec": {
   "display_name": "venv",
   "language": "python",
   "name": "python3"
  },
  "language_info": {
   "codemirror_mode": {
    "name": "ipython",
    "version": 3
   },
   "file_extension": ".py",
   "mimetype": "text/x-python",
   "name": "python",
   "nbconvert_exporter": "python",
   "pygments_lexer": "ipython3",
   "version": "3.11.4"
  },
  "orig_nbformat": 4
 },
 "nbformat": 4,
 "nbformat_minor": 2
}
