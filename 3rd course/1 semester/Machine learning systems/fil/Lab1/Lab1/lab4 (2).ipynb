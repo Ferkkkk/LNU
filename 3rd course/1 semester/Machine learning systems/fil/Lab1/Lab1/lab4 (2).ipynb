{
 "cells": [
  {
   "cell_type": "code",
   "metadata": {
    "ExecuteTime": {
     "end_time": "2024-11-01T19:29:25.892266Z",
     "start_time": "2024-11-01T19:29:21.283882Z"
    }
   },
   "source": [
    "from sklearn.datasets import load_iris\n",
    "from sklearn.model_selection import train_test_split\n",
    "from sklearn.linear_model import LogisticRegression\n",
    "from sklearn.metrics import accuracy_score, precision_score, recall_score, f1_score\n",
    "import matplotlib.pyplot as plt\n",
    "from sklearn.metrics import classification_report\n",
    "from sklearn.metrics import confusion_matrix\n",
    "import numpy as np\n",
    "from sklearn.model_selection import cross_val_score\n",
    "import seaborn as sns\n",
    "from sklearn.metrics import ConfusionMatrixDisplay\n",
    "from sklearn.tree import DecisionTreeClassifier\n",
    "import torch\n",
    "import torchvision\n",
    "import torchvision.transforms as transforms\n",
    "import torch.nn as nn\n",
    "import torch.optim as optim\n",
    "\n",
    "\n",
    "iris = load_iris()\n",
    "X, y = iris.data, iris.target\n",
    "X_train, X_test, y_train, y_test = train_test_split(X, y, test_size=0.2, random_state=42)\n"
   ],
   "outputs": [
    {
     "ename": "ModuleNotFoundError",
     "evalue": "No module named 'matplotlib.backends.registry'",
     "output_type": "error",
     "traceback": [
      "\u001B[1;31m---------------------------------------------------------------------------\u001B[0m",
      "\u001B[1;31mModuleNotFoundError\u001B[0m                       Traceback (most recent call last)",
      "Cell \u001B[1;32mIn[1], line 5\u001B[0m\n\u001B[0;32m      3\u001B[0m \u001B[38;5;28;01mfrom\u001B[39;00m \u001B[38;5;21;01msklearn\u001B[39;00m\u001B[38;5;21;01m.\u001B[39;00m\u001B[38;5;21;01mlinear_model\u001B[39;00m \u001B[38;5;28;01mimport\u001B[39;00m LogisticRegression\n\u001B[0;32m      4\u001B[0m \u001B[38;5;28;01mfrom\u001B[39;00m \u001B[38;5;21;01msklearn\u001B[39;00m\u001B[38;5;21;01m.\u001B[39;00m\u001B[38;5;21;01mmetrics\u001B[39;00m \u001B[38;5;28;01mimport\u001B[39;00m accuracy_score, precision_score, recall_score, f1_score\n\u001B[1;32m----> 5\u001B[0m \u001B[38;5;28;01mimport\u001B[39;00m \u001B[38;5;21;01mmatplotlib\u001B[39;00m\u001B[38;5;21;01m.\u001B[39;00m\u001B[38;5;21;01mpyplot\u001B[39;00m \u001B[38;5;28;01mas\u001B[39;00m \u001B[38;5;21;01mplt\u001B[39;00m\n\u001B[0;32m      6\u001B[0m \u001B[38;5;28;01mfrom\u001B[39;00m \u001B[38;5;21;01msklearn\u001B[39;00m\u001B[38;5;21;01m.\u001B[39;00m\u001B[38;5;21;01mmetrics\u001B[39;00m \u001B[38;5;28;01mimport\u001B[39;00m classification_report\n\u001B[0;32m      7\u001B[0m \u001B[38;5;28;01mfrom\u001B[39;00m \u001B[38;5;21;01msklearn\u001B[39;00m\u001B[38;5;21;01m.\u001B[39;00m\u001B[38;5;21;01mmetrics\u001B[39;00m \u001B[38;5;28;01mimport\u001B[39;00m confusion_matrix\n",
      "File \u001B[1;32m~\\OneDrive\\Робочий стіл\\3 курс 1 семестр\\Машинне\\Lab1\\Lab1\\.venv\\Lib\\site-packages\\matplotlib\\__init__.py:159\u001B[0m\n\u001B[0;32m    155\u001B[0m \u001B[38;5;28;01mfrom\u001B[39;00m \u001B[38;5;21;01mpackaging\u001B[39;00m\u001B[38;5;21;01m.\u001B[39;00m\u001B[38;5;21;01mversion\u001B[39;00m \u001B[38;5;28;01mimport\u001B[39;00m parse \u001B[38;5;28;01mas\u001B[39;00m parse_version\n\u001B[0;32m    157\u001B[0m \u001B[38;5;66;03m# cbook must import matplotlib only within function\u001B[39;00m\n\u001B[0;32m    158\u001B[0m \u001B[38;5;66;03m# definitions, so it is safe to import from it here.\u001B[39;00m\n\u001B[1;32m--> 159\u001B[0m \u001B[38;5;28;01mfrom\u001B[39;00m \u001B[38;5;21;01m.\u001B[39;00m \u001B[38;5;28;01mimport\u001B[39;00m _api, _version, cbook, _docstring, rcsetup\n\u001B[0;32m    160\u001B[0m \u001B[38;5;28;01mfrom\u001B[39;00m \u001B[38;5;21;01mmatplotlib\u001B[39;00m\u001B[38;5;21;01m.\u001B[39;00m\u001B[38;5;21;01mcbook\u001B[39;00m \u001B[38;5;28;01mimport\u001B[39;00m sanitize_sequence\n\u001B[0;32m    161\u001B[0m \u001B[38;5;28;01mfrom\u001B[39;00m \u001B[38;5;21;01mmatplotlib\u001B[39;00m\u001B[38;5;21;01m.\u001B[39;00m\u001B[38;5;21;01m_api\u001B[39;00m \u001B[38;5;28;01mimport\u001B[39;00m MatplotlibDeprecationWarning\n",
      "File \u001B[1;32m~\\OneDrive\\Робочий стіл\\3 курс 1 семестр\\Машинне\\Lab1\\Lab1\\.venv\\Lib\\site-packages\\matplotlib\\rcsetup.py:26\u001B[0m\n\u001B[0;32m     23\u001B[0m \u001B[38;5;28;01mimport\u001B[39;00m \u001B[38;5;21;01mnumpy\u001B[39;00m \u001B[38;5;28;01mas\u001B[39;00m \u001B[38;5;21;01mnp\u001B[39;00m\n\u001B[0;32m     25\u001B[0m \u001B[38;5;28;01mfrom\u001B[39;00m \u001B[38;5;21;01mmatplotlib\u001B[39;00m \u001B[38;5;28;01mimport\u001B[39;00m _api, cbook\n\u001B[1;32m---> 26\u001B[0m \u001B[38;5;28;01mfrom\u001B[39;00m \u001B[38;5;21;01mmatplotlib\u001B[39;00m\u001B[38;5;21;01m.\u001B[39;00m\u001B[38;5;21;01mbackends\u001B[39;00m \u001B[38;5;28;01mimport\u001B[39;00m BackendFilter, backend_registry\n\u001B[0;32m     27\u001B[0m \u001B[38;5;28;01mfrom\u001B[39;00m \u001B[38;5;21;01mmatplotlib\u001B[39;00m\u001B[38;5;21;01m.\u001B[39;00m\u001B[38;5;21;01mcbook\u001B[39;00m \u001B[38;5;28;01mimport\u001B[39;00m ls_mapper\n\u001B[0;32m     28\u001B[0m \u001B[38;5;28;01mfrom\u001B[39;00m \u001B[38;5;21;01mmatplotlib\u001B[39;00m\u001B[38;5;21;01m.\u001B[39;00m\u001B[38;5;21;01mcolors\u001B[39;00m \u001B[38;5;28;01mimport\u001B[39;00m Colormap, is_color_like\n",
      "File \u001B[1;32m~\\OneDrive\\Робочий стіл\\3 курс 1 семестр\\Машинне\\Lab1\\Lab1\\.venv\\Lib\\site-packages\\matplotlib\\backends\\__init__.py:1\u001B[0m\n\u001B[1;32m----> 1\u001B[0m \u001B[38;5;28;01mfrom\u001B[39;00m \u001B[38;5;21;01m.\u001B[39;00m\u001B[38;5;21;01mregistry\u001B[39;00m \u001B[38;5;28;01mimport\u001B[39;00m BackendFilter, backend_registry  \u001B[38;5;66;03m# noqa: F401\u001B[39;00m\n\u001B[0;32m      3\u001B[0m \u001B[38;5;66;03m# NOTE: plt.switch_backend() (called at import time) will add a \"backend\"\u001B[39;00m\n\u001B[0;32m      4\u001B[0m \u001B[38;5;66;03m# attribute here for backcompat.\u001B[39;00m\n\u001B[0;32m      5\u001B[0m _QT_FORCE_QT5_BINDING \u001B[38;5;241m=\u001B[39m \u001B[38;5;28;01mFalse\u001B[39;00m\n",
      "\u001B[1;31mModuleNotFoundError\u001B[0m: No module named 'matplotlib.backends.registry'"
     ]
    }
   ],
   "execution_count": 1
  },
  {
   "cell_type": "code",
   "metadata": {
    "ExecuteTime": {
     "end_time": "2024-11-01T19:29:25.896260Z",
     "start_time": "2024-11-01T19:29:25.896260Z"
    }
   },
   "source": [
    "log_reg = LogisticRegression(max_iter=200)\n",
    "log_reg.fit(X_train, y_train)\n",
    "y_pred_logreg = log_reg.predict(X_test)"
   ],
   "outputs": [],
   "execution_count": null
  },
  {
   "cell_type": "code",
   "metadata": {
    "ExecuteTime": {
     "end_time": "2024-11-01T19:29:25.901248Z",
     "start_time": "2024-11-01T19:29:25.901248Z"
    }
   },
   "source": [
    "accuracy = accuracy_score(y_test, y_pred_logreg)\n",
    "precision = precision_score(y_test, y_pred_logreg, average='macro')\n",
    "recall = recall_score(y_test, y_pred_logreg, average='macro')\n",
    "f1 = f1_score(y_test, y_pred_logreg, average='macro')\n",
    "\n",
    "print(f\"Accuracy: {accuracy:.2f}\")\n",
    "print(f\"Precision: {precision:.2f}\")\n",
    "print(f\"Recall: {recall:.2f}\")\n",
    "print(f\"F1 Score: {f1:.2f}\")\n",
    "\n",
    "ConfusionMatrixDisplay.from_estimator(log_reg, X_test, y_test, display_labels=iris.target_names)\n",
    "plt.show()"
   ],
   "outputs": [],
   "execution_count": null
  },
  {
   "cell_type": "code",
   "metadata": {
    "ExecuteTime": {
     "end_time": "2024-11-01T19:29:25.905237Z",
     "start_time": "2024-11-01T19:29:25.904240Z"
    }
   },
   "source": [
    "tree_clf = DecisionTreeClassifier()\n",
    "tree_clf.fit(X_train, y_train)\n",
    "y_pred_tree = tree_clf.predict(X_test)"
   ],
   "outputs": [],
   "execution_count": null
  },
  {
   "cell_type": "code",
   "metadata": {
    "ExecuteTime": {
     "end_time": "2024-11-01T19:29:25.910225Z",
     "start_time": "2024-11-01T19:29:25.908230Z"
    }
   },
   "source": [
    "accuracy_tree = accuracy_score(y_test, y_pred_tree)\n",
    "precision_tree = precision_score(y_test, y_pred_tree, average='macro')\n",
    "recall_tree = recall_score(y_test, y_pred_tree, average='macro')\n",
    "f1_tree = f1_score(y_test, y_pred_tree, average='macro')\n",
    "\n",
    "\n",
    "print(f\"Decision Tree Accuracy: {accuracy_tree:.2f}\")\n",
    "print(f\"Decision Tree Precision: {precision_tree:.2f}\")\n",
    "print(f\"Decision Tree Recall: {recall_tree:.2f}\")\n",
    "print(f\"Decision Tree F1 Score: {f1_tree:.2f}\")\n",
    "ConfusionMatrixDisplay.from_estimator(tree_clf, X_test, y_test, display_labels=iris.target_names)\n",
    "plt.show()"
   ],
   "outputs": [],
   "execution_count": null
  },
  {
   "cell_type": "code",
   "metadata": {
    "ExecuteTime": {
     "end_time": "2024-11-01T19:29:25.916207Z",
     "start_time": "2024-11-01T19:29:25.915210Z"
    }
   },
   "source": [
    "logreg_scores = cross_val_score(log_reg, X, y, cv=5)\n",
    "print(\"Logistic Regression Cross-Val Accuracy:\", logreg_scores.mean())\n",
    "\n",
    "tree_scores = cross_val_score(tree_clf, X, y, cv=5)\n",
    "print(\"Decision Tree Cross-Val Accuracy:\", tree_scores.mean())\n",
    "print(\"Training Accuracy (LogReg):\", log_reg.score(X_train, y_train))\n",
    "print(\"Test Accuracy (LogReg):\", log_reg.score(X_test, y_test))\n",
    "\n",
    "print(\"Training Accuracy (Tree):\", tree_clf.score(X_train, y_train))\n",
    "print(\"Test Accuracy (Tree):\", tree_clf.score(X_test, y_test))\n"
   ],
   "outputs": [],
   "execution_count": null
  },
  {
   "cell_type": "code",
   "metadata": {
    "ExecuteTime": {
     "end_time": "2024-11-01T19:29:25.925185Z",
     "start_time": "2024-11-01T19:29:25.923189Z"
    }
   },
   "source": [
    "class_names = ['T-shirt/top', 'Trouser', 'Pullover', 'Dress', 'Coat', \n",
    "               'Sandal', 'Shirt', 'Sneaker', 'Bag', 'Ankle boot']\n",
    "\n",
    "transform = transforms.Compose([\n",
    "    transforms.ToTensor(),\n",
    "    transforms.Normalize((0.5,), (0.5,))\n",
    "])\n",
    "\n",
    "train_dataset = torchvision.datasets.FashionMNIST(root='./data', train=True, download=True, transform=transform)\n",
    "test_dataset = torchvision.datasets.FashionMNIST(root='./data', train=False, download=True, transform=transform)\n",
    "\n",
    "train_loader = torch.utils.data.DataLoader(train_dataset, batch_size=64, shuffle=True)\n",
    "test_loader = torch.utils.data.DataLoader(test_dataset, batch_size=64, shuffle=False)\n",
    "\n",
    "\n"
   ],
   "outputs": [],
   "execution_count": null
  },
  {
   "cell_type": "code",
   "metadata": {
    "ExecuteTime": {
     "end_time": "2024-11-01T19:29:25.929172Z",
     "start_time": "2024-11-01T19:29:25.929172Z"
    }
   },
   "source": [
    "X_train = train_dataset.data.numpy().reshape(-1, 28*28)\n",
    "y_train = train_dataset.targets.numpy()\n",
    "\n",
    "X_test = test_dataset.data.numpy().reshape(-1, 28*28)\n",
    "y_test = test_dataset.targets.numpy()\n",
    "\n",
    "X_train = X_train / 255.0\n",
    "X_test = X_test / 255.0\n"
   ],
   "outputs": [],
   "execution_count": null
  },
  {
   "cell_type": "code",
   "metadata": {
    "ExecuteTime": {
     "end_time": "2024-11-01T19:29:25.935157Z",
     "start_time": "2024-11-01T19:29:25.932165Z"
    }
   },
   "source": [
    "log_reg_fashion = LogisticRegression(max_iter=10000, verbose=1)\n",
    "log_reg_fashion.fit(X_train, y_train)\n",
    "\n",
    "y_pred_logreg_fashion = log_reg_fashion.predict(X_test)\n",
    "\n",
    "accuracy_logreg_fashion = accuracy_score(y_test, y_pred_logreg_fashion)\n",
    "precision_logreg_fashion = precision_score(y_test, y_pred_logreg_fashion, average='macro')\n",
    "recall_logreg_fashion = recall_score(y_test, y_pred_logreg_fashion, average='macro')\n",
    "f1_logreg_fashion = f1_score(y_test, y_pred_logreg_fashion, average='macro')\n",
    "\n",
    "print(f\"Logistic Regression on Fashion-MNIST\\nAccuracy: {accuracy_logreg_fashion:.2f}\")\n",
    "print(f\"Precision: {precision_logreg_fashion:.2f}\")\n",
    "print(f\"Recall: {recall_logreg_fashion:.2f}\")\n",
    "print(f\"F1 Score: {f1_logreg_fashion:.2f}\")\n",
    "\n",
    "disp = ConfusionMatrixDisplay.from_estimator(log_reg_fashion, X_test, y_test, display_labels=class_names)\n",
    "plt.xticks(rotation='vertical')\n",
    "plt.show()\n"
   ],
   "outputs": [],
   "execution_count": null
  },
  {
   "cell_type": "code",
   "metadata": {
    "ExecuteTime": {
     "end_time": "2024-11-01T19:29:25.960089Z",
     "start_time": "2024-11-01T19:29:25.959093Z"
    }
   },
   "source": [
    "tree_clf_fashion = DecisionTreeClassifier()\n",
    "tree_clf_fashion.fit(X_train, y_train)\n",
    "\n",
    "y_pred_tree_fashion = tree_clf_fashion.predict(X_test)\n",
    "\n",
    "accuracy_tree_fashion = accuracy_score(y_test, y_pred_tree_fashion)\n",
    "precision_tree_fashion = precision_score(y_test, y_pred_tree_fashion, average='macro')\n",
    "recall_tree_fashion = recall_score(y_test, y_pred_tree_fashion, average='macro')\n",
    "f1_tree_fashion = f1_score(y_test, y_pred_tree_fashion, average='macro')\n",
    "\n",
    "print(f\"Decision Tree on Fashion-MNIST\\nAccuracy: {accuracy_tree_fashion:.2f}\")\n",
    "print(f\"Precision: {precision_tree_fashion:.2f}\")\n",
    "print(f\"Recall: {recall_tree_fashion:.2f}\")\n",
    "print(f\"F1 Score: {f1_tree_fashion:.2f}\")\n",
    "\n",
    "disp = ConfusionMatrixDisplay.from_estimator(tree_clf_fashion, X_test, y_test, display_labels=class_names)\n",
    "plt.xticks(rotation='vertical')\n",
    "plt.show()\n"
   ],
   "outputs": [],
   "execution_count": null
  }
 ],
 "metadata": {
  "kernelspec": {
   "display_name": "venv",
   "language": "python",
   "name": "python3"
  },
  "language_info": {
   "codemirror_mode": {
    "name": "ipython",
    "version": 3
   },
   "file_extension": ".py",
   "mimetype": "text/x-python",
   "name": "python",
   "nbconvert_exporter": "python",
   "pygments_lexer": "ipython3",
   "version": "3.11.4"
  },
  "orig_nbformat": 4
 },
 "nbformat": 4,
 "nbformat_minor": 2
}
